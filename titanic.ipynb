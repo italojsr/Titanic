{
 "cells": [
  {
   "cell_type": "code",
   "execution_count": 1,
   "metadata": {},
   "outputs": [],
   "source": [
    "# Standard data analysis libraries\n",
    "import pandas as pd\n",
    "import numpy as np\n",
    "\n",
    "# Data visualization libraries\n",
    "from seaborn import heatmap\n",
    "import seaborn as sns\n",
    "import matplotlib.pyplot as plt\n",
    "%matplotlib inline\n",
    "\n",
    "# Preprocessing libraries\n",
    "from sklearn.preprocessing import OneHotEncoder\n",
    "from sklearn.preprocessing import StandardScaler\n",
    "from sklearn.impute import SimpleImputer\n",
    "\n",
    "# Transformers libraries\n",
    "from sklearn.pipeline import Pipeline\n",
    "from sklearn.base import BaseEstimator, TransformerMixin\n",
    "\n",
    "\n",
    "# Machine learning models\n",
    "from sklearn.svm import LinearSVC\n",
    "from sklearn.svm import SVC\n",
    "from sklearn.linear_model import SGDClassifier\n",
    "from sklearn.tree import DecisionTreeClassifier\n",
    "from sklearn.ensemble import RandomForestClassifier\n",
    "\n",
    "# Cross Validation\n",
    "from sklearn.model_selection import cross_val_predict\n",
    "from sklearn.model_selection import cross_val_score\n",
    "# Metrics\n",
    "from sklearn.metrics import roc_curve\n",
    "from sklearn.metrics import f1_score,roc_auc_score\n",
    "# Hyperparameter tuning library\n",
    "from sklearn.model_selection import GridSearchCV\n"
   ]
  },
  {
   "cell_type": "code",
   "execution_count": 2,
   "metadata": {},
   "outputs": [
    {
     "data": {
      "text/html": [
       "<div>\n",
       "<style scoped>\n",
       "    .dataframe tbody tr th:only-of-type {\n",
       "        vertical-align: middle;\n",
       "    }\n",
       "\n",
       "    .dataframe tbody tr th {\n",
       "        vertical-align: top;\n",
       "    }\n",
       "\n",
       "    .dataframe thead th {\n",
       "        text-align: right;\n",
       "    }\n",
       "</style>\n",
       "<table border=\"1\" class=\"dataframe\">\n",
       "  <thead>\n",
       "    <tr style=\"text-align: right;\">\n",
       "      <th></th>\n",
       "      <th>Survived</th>\n",
       "      <th>Pclass</th>\n",
       "      <th>Name</th>\n",
       "      <th>Sex</th>\n",
       "      <th>Age</th>\n",
       "      <th>SibSp</th>\n",
       "      <th>Parch</th>\n",
       "      <th>Ticket</th>\n",
       "      <th>Fare</th>\n",
       "      <th>Cabin</th>\n",
       "      <th>Embarked</th>\n",
       "    </tr>\n",
       "    <tr>\n",
       "      <th>PassengerId</th>\n",
       "      <th></th>\n",
       "      <th></th>\n",
       "      <th></th>\n",
       "      <th></th>\n",
       "      <th></th>\n",
       "      <th></th>\n",
       "      <th></th>\n",
       "      <th></th>\n",
       "      <th></th>\n",
       "      <th></th>\n",
       "      <th></th>\n",
       "    </tr>\n",
       "  </thead>\n",
       "  <tbody>\n",
       "    <tr>\n",
       "      <th>1</th>\n",
       "      <td>0</td>\n",
       "      <td>3</td>\n",
       "      <td>Braund, Mr. Owen Harris</td>\n",
       "      <td>male</td>\n",
       "      <td>22.0</td>\n",
       "      <td>1</td>\n",
       "      <td>0</td>\n",
       "      <td>A/5 21171</td>\n",
       "      <td>7.2500</td>\n",
       "      <td>NaN</td>\n",
       "      <td>S</td>\n",
       "    </tr>\n",
       "    <tr>\n",
       "      <th>2</th>\n",
       "      <td>1</td>\n",
       "      <td>1</td>\n",
       "      <td>Cumings, Mrs. John Bradley (Florence Briggs Th...</td>\n",
       "      <td>female</td>\n",
       "      <td>38.0</td>\n",
       "      <td>1</td>\n",
       "      <td>0</td>\n",
       "      <td>PC 17599</td>\n",
       "      <td>71.2833</td>\n",
       "      <td>C85</td>\n",
       "      <td>C</td>\n",
       "    </tr>\n",
       "    <tr>\n",
       "      <th>3</th>\n",
       "      <td>1</td>\n",
       "      <td>3</td>\n",
       "      <td>Heikkinen, Miss. Laina</td>\n",
       "      <td>female</td>\n",
       "      <td>26.0</td>\n",
       "      <td>0</td>\n",
       "      <td>0</td>\n",
       "      <td>STON/O2. 3101282</td>\n",
       "      <td>7.9250</td>\n",
       "      <td>NaN</td>\n",
       "      <td>S</td>\n",
       "    </tr>\n",
       "    <tr>\n",
       "      <th>4</th>\n",
       "      <td>1</td>\n",
       "      <td>1</td>\n",
       "      <td>Futrelle, Mrs. Jacques Heath (Lily May Peel)</td>\n",
       "      <td>female</td>\n",
       "      <td>35.0</td>\n",
       "      <td>1</td>\n",
       "      <td>0</td>\n",
       "      <td>113803</td>\n",
       "      <td>53.1000</td>\n",
       "      <td>C123</td>\n",
       "      <td>S</td>\n",
       "    </tr>\n",
       "    <tr>\n",
       "      <th>5</th>\n",
       "      <td>0</td>\n",
       "      <td>3</td>\n",
       "      <td>Allen, Mr. William Henry</td>\n",
       "      <td>male</td>\n",
       "      <td>35.0</td>\n",
       "      <td>0</td>\n",
       "      <td>0</td>\n",
       "      <td>373450</td>\n",
       "      <td>8.0500</td>\n",
       "      <td>NaN</td>\n",
       "      <td>S</td>\n",
       "    </tr>\n",
       "  </tbody>\n",
       "</table>\n",
       "</div>"
      ],
      "text/plain": [
       "             Survived  Pclass  \\\n",
       "PassengerId                     \n",
       "1                   0       3   \n",
       "2                   1       1   \n",
       "3                   1       3   \n",
       "4                   1       1   \n",
       "5                   0       3   \n",
       "\n",
       "                                                          Name     Sex   Age  \\\n",
       "PassengerId                                                                    \n",
       "1                                      Braund, Mr. Owen Harris    male  22.0   \n",
       "2            Cumings, Mrs. John Bradley (Florence Briggs Th...  female  38.0   \n",
       "3                                       Heikkinen, Miss. Laina  female  26.0   \n",
       "4                 Futrelle, Mrs. Jacques Heath (Lily May Peel)  female  35.0   \n",
       "5                                     Allen, Mr. William Henry    male  35.0   \n",
       "\n",
       "             SibSp  Parch            Ticket     Fare Cabin Embarked  \n",
       "PassengerId                                                          \n",
       "1                1      0         A/5 21171   7.2500   NaN        S  \n",
       "2                1      0          PC 17599  71.2833   C85        C  \n",
       "3                0      0  STON/O2. 3101282   7.9250   NaN        S  \n",
       "4                1      0            113803  53.1000  C123        S  \n",
       "5                0      0            373450   8.0500   NaN        S  "
      ]
     },
     "execution_count": 2,
     "metadata": {},
     "output_type": "execute_result"
    }
   ],
   "source": [
    "df = pd.read_csv('train.csv',index_col = 'PassengerId')\n",
    "df.head()"
   ]
  },
  {
   "cell_type": "code",
   "execution_count": 3,
   "metadata": {},
   "outputs": [],
   "source": [
    "df.drop(['Name'],axis = 'columns',inplace = True) # Name will not be useful for the data analysis neither for the algorithms"
   ]
  },
  {
   "cell_type": "code",
   "execution_count": 4,
   "metadata": {},
   "outputs": [
    {
     "name": "stdout",
     "output_type": "stream",
     "text": [
      "<class 'pandas.core.frame.DataFrame'>\n",
      "Index: 891 entries, 1 to 891\n",
      "Data columns (total 10 columns):\n",
      " #   Column    Non-Null Count  Dtype  \n",
      "---  ------    --------------  -----  \n",
      " 0   Survived  891 non-null    int64  \n",
      " 1   Pclass    891 non-null    int64  \n",
      " 2   Sex       891 non-null    object \n",
      " 3   Age       714 non-null    float64\n",
      " 4   SibSp     891 non-null    int64  \n",
      " 5   Parch     891 non-null    int64  \n",
      " 6   Ticket    891 non-null    object \n",
      " 7   Fare      891 non-null    float64\n",
      " 8   Cabin     204 non-null    object \n",
      " 9   Embarked  889 non-null    object \n",
      "dtypes: float64(2), int64(4), object(4)\n",
      "memory usage: 76.6+ KB\n"
     ]
    }
   ],
   "source": [
    "df.info()"
   ]
  },
  {
   "cell_type": "code",
   "execution_count": 5,
   "metadata": {},
   "outputs": [
    {
     "data": {
      "text/plain": [
       "<Axes: ylabel='PassengerId'>"
      ]
     },
     "execution_count": 5,
     "metadata": {},
     "output_type": "execute_result"
    },
    {
     "data": {
      "image/png": "[encoded data removed]",
      "text/plain": [
       "<Figure size 640x480 with 2 Axes>"
      ]
     },
     "metadata": {},
     "output_type": "display_data"
    }
   ],
   "source": [
    "heatmap(df.isna())"
   ]
  },
  {
   "cell_type": "markdown",
   "metadata": {},
   "source": [
    "<b>Embarked</b>, <b>Cabin</b> and <b>Age</b> attributes have missing values"
   ]
  },
  {
   "cell_type": "markdown",
   "metadata": {},
   "source": [
    "## Data Cleaning"
   ]
  },
  {
   "cell_type": "markdown",
   "metadata": {},
   "source": [
    "<b>Embarked</b>"
   ]
  },
  {
   "cell_type": "code",
   "execution_count": 6,
   "metadata": {},
   "outputs": [],
   "source": [
    "df.dropna(subset = 'Embarked',axis = 0,inplace = True) #dropping the 2 rows with NaN's on embarked attribute"
   ]
  },
  {
   "cell_type": "markdown",
   "metadata": {},
   "source": [
    "<b>Cabin</b>"
   ]
  },
  {
   "cell_type": "code",
   "execution_count": 7,
   "metadata": {},
   "outputs": [
    {
     "data": {
      "text/plain": [
       "889"
      ]
     },
     "execution_count": 7,
     "metadata": {},
     "output_type": "execute_result"
    }
   ],
   "source": [
    "total_instances = df.shape[0]\n",
    "total_instances"
   ]
  },
  {
   "cell_type": "code",
   "execution_count": 8,
   "metadata": {},
   "outputs": [
    {
     "data": {
      "text/plain": [
       "687"
      ]
     },
     "execution_count": 8,
     "metadata": {},
     "output_type": "execute_result"
    }
   ],
   "source": [
    "cabin_missing = df['Cabin'].isna().sum()\n",
    "cabin_missing"
   ]
  },
  {
   "cell_type": "code",
   "execution_count": 9,
   "metadata": {},
   "outputs": [
    {
     "name": "stdout",
     "output_type": "stream",
     "text": [
      "The percentage of missing values in the Cabin column is 77.0 %\n"
     ]
    }
   ],
   "source": [
    "print('The percentage of missing values in the Cabin column is {} %'.format(np.around((cabin_missing*100)/total_instances),2))"
   ]
  },
  {
   "cell_type": "markdown",
   "metadata": {},
   "source": [
    "Due to the high percentage of missing data in the cabin column, it will be droped from the dataset."
   ]
  },
  {
   "cell_type": "code",
   "execution_count": 10,
   "metadata": {},
   "outputs": [
    {
     "data": {
      "text/html": [
       "<div>\n",
       "<style scoped>\n",
       "    .dataframe tbody tr th:only-of-type {\n",
       "        vertical-align: middle;\n",
       "    }\n",
       "\n",
       "    .dataframe tbody tr th {\n",
       "        vertical-align: top;\n",
       "    }\n",
       "\n",
       "    .dataframe thead th {\n",
       "        text-align: right;\n",
       "    }\n",
       "</style>\n",
       "<table border=\"1\" class=\"dataframe\">\n",
       "  <thead>\n",
       "    <tr style=\"text-align: right;\">\n",
       "      <th></th>\n",
       "      <th>Survived</th>\n",
       "      <th>Pclass</th>\n",
       "      <th>Sex</th>\n",
       "      <th>Age</th>\n",
       "      <th>SibSp</th>\n",
       "      <th>Parch</th>\n",
       "      <th>Ticket</th>\n",
       "      <th>Fare</th>\n",
       "      <th>Embarked</th>\n",
       "    </tr>\n",
       "    <tr>\n",
       "      <th>PassengerId</th>\n",
       "      <th></th>\n",
       "      <th></th>\n",
       "      <th></th>\n",
       "      <th></th>\n",
       "      <th></th>\n",
       "      <th></th>\n",
       "      <th></th>\n",
       "      <th></th>\n",
       "      <th></th>\n",
       "    </tr>\n",
       "  </thead>\n",
       "  <tbody>\n",
       "    <tr>\n",
       "      <th>1</th>\n",
       "      <td>0</td>\n",
       "      <td>3</td>\n",
       "      <td>male</td>\n",
       "      <td>22.0</td>\n",
       "      <td>1</td>\n",
       "      <td>0</td>\n",
       "      <td>A/5 21171</td>\n",
       "      <td>7.2500</td>\n",
       "      <td>S</td>\n",
       "    </tr>\n",
       "    <tr>\n",
       "      <th>2</th>\n",
       "      <td>1</td>\n",
       "      <td>1</td>\n",
       "      <td>female</td>\n",
       "      <td>38.0</td>\n",
       "      <td>1</td>\n",
       "      <td>0</td>\n",
       "      <td>PC 17599</td>\n",
       "      <td>71.2833</td>\n",
       "      <td>C</td>\n",
       "    </tr>\n",
       "    <tr>\n",
       "      <th>3</th>\n",
       "      <td>1</td>\n",
       "      <td>3</td>\n",
       "      <td>female</td>\n",
       "      <td>26.0</td>\n",
       "      <td>0</td>\n",
       "      <td>0</td>\n",
       "      <td>STON/O2. 3101282</td>\n",
       "      <td>7.9250</td>\n",
       "      <td>S</td>\n",
       "    </tr>\n",
       "    <tr>\n",
       "      <th>4</th>\n",
       "      <td>1</td>\n",
       "      <td>1</td>\n",
       "      <td>female</td>\n",
       "      <td>35.0</td>\n",
       "      <td>1</td>\n",
       "      <td>0</td>\n",
       "      <td>113803</td>\n",
       "      <td>53.1000</td>\n",
       "      <td>S</td>\n",
       "    </tr>\n",
       "    <tr>\n",
       "      <th>5</th>\n",
       "      <td>0</td>\n",
       "      <td>3</td>\n",
       "      <td>male</td>\n",
       "      <td>35.0</td>\n",
       "      <td>0</td>\n",
       "      <td>0</td>\n",
       "      <td>373450</td>\n",
       "      <td>8.0500</td>\n",
       "      <td>S</td>\n",
       "    </tr>\n",
       "  </tbody>\n",
       "</table>\n",
       "</div>"
      ],
      "text/plain": [
       "             Survived  Pclass     Sex   Age  SibSp  Parch            Ticket  \\\n",
       "PassengerId                                                                   \n",
       "1                   0       3    male  22.0      1      0         A/5 21171   \n",
       "2                   1       1  female  38.0      1      0          PC 17599   \n",
       "3                   1       3  female  26.0      0      0  STON/O2. 3101282   \n",
       "4                   1       1  female  35.0      1      0            113803   \n",
       "5                   0       3    male  35.0      0      0            373450   \n",
       "\n",
       "                Fare Embarked  \n",
       "PassengerId                    \n",
       "1             7.2500        S  \n",
       "2            71.2833        C  \n",
       "3             7.9250        S  \n",
       "4            53.1000        S  \n",
       "5             8.0500        S  "
      ]
     },
     "execution_count": 10,
     "metadata": {},
     "output_type": "execute_result"
    }
   ],
   "source": [
    "df.drop(['Cabin'],axis = 'columns',inplace = True)\n",
    "df.head()"
   ]
  },
  {
   "cell_type": "markdown",
   "metadata": {},
   "source": [
    "<b>Age</b>"
   ]
  },
  {
   "cell_type": "code",
   "execution_count": 11,
   "metadata": {},
   "outputs": [
    {
     "data": {
      "text/plain": [
       "177"
      ]
     },
     "execution_count": 11,
     "metadata": {},
     "output_type": "execute_result"
    }
   ],
   "source": [
    "age_missing = df['Age'].isna().sum()\n",
    "age_missing "
   ]
  },
  {
   "cell_type": "code",
   "execution_count": 12,
   "metadata": {},
   "outputs": [
    {
     "name": "stdout",
     "output_type": "stream",
     "text": [
      "The number of instances with age missing are 20.0 %\n"
     ]
    }
   ],
   "source": [
    "print('The number of instances with age missing are {} %'.format(np.around(age_missing*100/total_instances )))"
   ]
  },
  {
   "cell_type": "markdown",
   "metadata": {},
   "source": [
    "To avoid lose more data and because 20% doesn't seem so high we're going to fill the missing values with the average of the age column"
   ]
  },
  {
   "cell_type": "code",
   "execution_count": 13,
   "metadata": {},
   "outputs": [],
   "source": [
    "age_mean = df['Age'].mean()\n",
    "df['Age'].fillna(value = age_mean,inplace = True)"
   ]
  },
  {
   "cell_type": "code",
   "execution_count": 14,
   "metadata": {},
   "outputs": [
    {
     "data": {
      "text/plain": [
       "889"
      ]
     },
     "execution_count": 14,
     "metadata": {},
     "output_type": "execute_result"
    }
   ],
   "source": [
    "df['Age'].notna().sum()"
   ]
  },
  {
   "cell_type": "markdown",
   "metadata": {},
   "source": [
    "Since the same steps will be applied to test data, we can build a transformer for it:"
   ]
  },
  {
   "cell_type": "code",
   "execution_count": 15,
   "metadata": {},
   "outputs": [],
   "source": [
    "class DataCleaner(BaseException,TransformerMixin):\n",
    "    def fit(self,X,y= None):\n",
    "        return self\n",
    "    def transform(self,X,y = None):\n",
    "        # Drop rows with NaN's on 'Embarked' attribute\n",
    "        X.dropna(subset = 'Embarked',axis = 0,inplace = True) \n",
    "        # Drop 'Cabin' attribute\n",
    "        X.drop(['Cabin'],axis = 'columns',inplace = True)\n",
    "        # Fill the NaN's from the 'Age' attribute\n",
    "        age_mean = X['Age'].mean()\n",
    "        X['Age'].fillna(value = age_mean,inplace = True)\n",
    "        return X\n",
    "\n",
    "\n"
   ]
  },
  {
   "cell_type": "code",
   "execution_count": null,
   "metadata": {},
   "outputs": [],
   "source": []
  },
  {
   "cell_type": "code",
   "execution_count": 16,
   "metadata": {},
   "outputs": [
    {
     "name": "stdout",
     "output_type": "stream",
     "text": [
      "Survived\n",
      "0    549\n",
      "1    340\n",
      "Name: count, dtype: int64\n",
      "Pclass\n",
      "3    491\n",
      "1    214\n",
      "2    184\n",
      "Name: count, dtype: int64\n",
      "Sex\n",
      "male      577\n",
      "female    312\n",
      "Name: count, dtype: int64\n",
      "Age\n",
      "29.642088    177\n",
      "24.000000     30\n",
      "22.000000     27\n",
      "18.000000     26\n",
      "28.000000     25\n",
      "            ... \n",
      "66.000000      1\n",
      "0.666700       1\n",
      "0.416700       1\n",
      "34.500000      1\n",
      "74.000000      1\n",
      "Name: count, Length: 89, dtype: int64\n",
      "SibSp\n",
      "0    606\n",
      "1    209\n",
      "2     28\n",
      "4     18\n",
      "3     16\n",
      "8      7\n",
      "5      5\n",
      "Name: count, dtype: int64\n",
      "Parch\n",
      "0    676\n",
      "1    118\n",
      "2     80\n",
      "5      5\n",
      "3      5\n",
      "4      4\n",
      "6      1\n",
      "Name: count, dtype: int64\n",
      "Ticket\n",
      "347082              7\n",
      "1601                7\n",
      "CA. 2343            7\n",
      "3101295             6\n",
      "CA 2144             6\n",
      "                   ..\n",
      "2683                1\n",
      "SOTON/O2 3101287    1\n",
      "11774               1\n",
      "392092              1\n",
      "370376              1\n",
      "Name: count, Length: 680, dtype: int64\n",
      "Fare\n",
      "8.0500     43\n",
      "13.0000    42\n",
      "7.8958     38\n",
      "7.7500     34\n",
      "26.0000    31\n",
      "           ..\n",
      "8.6833      1\n",
      "8.3625      1\n",
      "8.4333      1\n",
      "25.5875     1\n",
      "10.5167     1\n",
      "Name: count, Length: 247, dtype: int64\n",
      "Embarked\n",
      "S    644\n",
      "C    168\n",
      "Q     77\n",
      "Name: count, dtype: int64\n"
     ]
    }
   ],
   "source": [
    "#Analyzing the data for each column\n",
    "for col in df.columns:\n",
    "    print(df[col].value_counts().sort_values(ascending = False))"
   ]
  },
  {
   "cell_type": "markdown",
   "metadata": {},
   "source": [
    "<b>Some Conclusions:</b>\n",
    "<p>The ship had more males than females</p>\n",
    "<p>The passengers on the ship came mainly from Southampton</p>\n",
    "<p>The third class has more passengers than the other classes</p>"
   ]
  },
  {
   "cell_type": "markdown",
   "metadata": {},
   "source": [
    "### Outliers"
   ]
  },
  {
   "cell_type": "code",
   "execution_count": 17,
   "metadata": {},
   "outputs": [
    {
     "data": {
      "text/plain": [
       "<Axes: title={'center': 'Fare'}, xlabel='Fare'>"
      ]
     },
     "execution_count": 17,
     "metadata": {},
     "output_type": "execute_result"
    },
    {
     "data": {
      "image/png": "[encoded data removed]",
      "text/plain": [
       "<Figure size 1000x500 with 2 Axes>"
      ]
     },
     "metadata": {},
     "output_type": "display_data"
    }
   ],
   "source": [
    "numerical_attributes = ['Age','Fare']\n",
    "plt.figure(figsize = (10,5))\n",
    "ax1 = plt.subplot(1,2,1)\n",
    "ax1.set_title('Age')\n",
    "sns.boxplot(x = df[numerical_attributes[0]])\n",
    "ax2 = plt.subplot(1,2,2)\n",
    "ax2.set_title('Fare')\n",
    "sns.boxplot(x = df[numerical_attributes[1]])\n"
   ]
  },
  {
   "cell_type": "markdown",
   "metadata": {},
   "source": [
    "Above we can see that there is a fair number of outliers in these numerical attributes. We may treat them in the preprocessing"
   ]
  },
  {
   "cell_type": "markdown",
   "metadata": {},
   "source": [
    "## EDA"
   ]
  },
  {
   "cell_type": "markdown",
   "metadata": {},
   "source": [
    "<b>Sex feature</b>"
   ]
  },
  {
   "cell_type": "code",
   "execution_count": 30,
   "metadata": {},
   "outputs": [
    {
     "data": {
      "image/png": "[encoded data removed]",
      "text/plain": [
       "<Figure size 500x500 with 1 Axes>"
      ]
     },
     "metadata": {},
     "output_type": "display_data"
    }
   ],
   "source": [
    "fig = plt.figure(figsize = (5,5))\n",
    "ax = fig.add_axes([0,0,1,1])\n",
    "sns.countplot(df,x = 'Sex',hue = 'Survived')\n",
    "sns.set_theme(style = 'whitegrid')\n",
    "ax.set_xticks([0,1],('Man','Women'))\n",
    "ax.set_xlabel('Sex',fontsize = 12)\n",
    "ax.set_ylabel('Count',fontsize = 12)\n",
    "ax.legend(['Deceased','Survived'])\n",
    "\n",
    "for label in ax.containers:\n",
    "    ax.bar_label(label)"
   ]
  },
  {
   "cell_type": "code",
   "execution_count": 27,
   "metadata": {},
   "outputs": [
    {
     "data": {
      "text/html": [
       "<style type=\"text/css\">\n",
       "#T_10c37_row0_col0, #T_10c37_row1_col1 {\n",
       "  background-color: #fff7fb;\n",
       "  color: #000000;\n",
       "}\n",
       "#T_10c37_row0_col1, #T_10c37_row1_col0 {\n",
       "  background-color: #023858;\n",
       "  color: #f1f1f1;\n",
       "}\n",
       "#T_10c37_row2_col0 {\n",
       "  background-color: #2c89bd;\n",
       "  color: #f1f1f1;\n",
       "}\n",
       "#T_10c37_row2_col1 {\n",
       "  background-color: #afc1dd;\n",
       "  color: #000000;\n",
       "}\n",
       "</style>\n",
       "<table id=\"T_10c37\">\n",
       "  <thead>\n",
       "    <tr>\n",
       "      <th class=\"index_name level0\" >Survived</th>\n",
       "      <th id=\"T_10c37_level0_col0\" class=\"col_heading level0 col0\" >Deceased</th>\n",
       "      <th id=\"T_10c37_level0_col1\" class=\"col_heading level0 col1\" >Survivor</th>\n",
       "    </tr>\n",
       "    <tr>\n",
       "      <th class=\"index_name level0\" >Sex</th>\n",
       "      <th class=\"blank col0\" >&nbsp;</th>\n",
       "      <th class=\"blank col1\" >&nbsp;</th>\n",
       "    </tr>\n",
       "  </thead>\n",
       "  <tbody>\n",
       "    <tr>\n",
       "      <th id=\"T_10c37_level0_row0\" class=\"row_heading level0 row0\" >female</th>\n",
       "      <td id=\"T_10c37_row0_col0\" class=\"data row0 col0\" >0.259615</td>\n",
       "      <td id=\"T_10c37_row0_col1\" class=\"data row0 col1\" >0.740385</td>\n",
       "    </tr>\n",
       "    <tr>\n",
       "      <th id=\"T_10c37_level0_row1\" class=\"row_heading level0 row1\" >male</th>\n",
       "      <td id=\"T_10c37_row1_col0\" class=\"data row1 col0\" >0.811092</td>\n",
       "      <td id=\"T_10c37_row1_col1\" class=\"data row1 col1\" >0.188908</td>\n",
       "    </tr>\n",
       "    <tr>\n",
       "      <th id=\"T_10c37_level0_row2\" class=\"row_heading level0 row2\" >All</th>\n",
       "      <td id=\"T_10c37_row2_col0\" class=\"data row2 col0\" >0.617548</td>\n",
       "      <td id=\"T_10c37_row2_col1\" class=\"data row2 col1\" >0.382452</td>\n",
       "    </tr>\n",
       "  </tbody>\n",
       "</table>\n"
      ],
      "text/plain": [
       "<pandas.io.formats.style.Styler at 0x21ee6b63160>"
      ]
     },
     "execution_count": 27,
     "metadata": {},
     "output_type": "execute_result"
    }
   ],
   "source": [
    "cross_pclass = pd.crosstab(df.Sex,df.Survived,margins = True,normalize = 'index')\n",
    "cross_pclass.rename(mapper = {0:'Deceased',1:'Survived'},axis = 'columns',inplace = True)\n",
    "cross_pclass.style.background_gradient()"
   ]
  },
  {
   "cell_type": "markdown",
   "metadata": {},
   "source": [
    "Women had the greatest percentage of survival"
   ]
  },
  {
   "cell_type": "markdown",
   "metadata": {},
   "source": [
    "<b>Pclass feature</b>"
   ]
  },
  {
   "cell_type": "code",
   "execution_count": null,
   "metadata": {},
   "outputs": [
    {
     "data": {
      "image/png": "[encoded data removed]",
      "text/plain": [
       "<Figure size 800x300 with 1 Axes>"
      ]
     },
     "metadata": {},
     "output_type": "display_data"
    }
   ],
   "source": [
    "fig = plt.figure(figsize = (8,3))\n",
    "ax = fig.add_axes([0,0,1,1])\n",
    "sns.countplot(df,x = 'Survived',hue = 'Pclass')\n",
    "sns.set_theme(style = 'whitegrid')\n",
    "ax.set_xticks([0,1],('Deceased','Survived'))\n",
    "ax.set_yticks(np.arange(0,480,60))\n",
    "ax.set_xlabel('Passenger status',fontsize = 12)\n",
    "ax.set_ylabel('Count',fontsize = 12)\n",
    "ax.set_title('Survival by class',fontsize = 14,pad = 10)\n",
    "for label in ax.containers:\n",
    "    ax.bar_label(label)"
   ]
  },
  {
   "cell_type": "markdown",
   "metadata": {},
   "source": [
    "Above we can see that mainly people that were in thirst class died. However the third class had more people, therefore it might be expected. <p>We need to evaluate the relative value per class before taken some conclusion about it</p>"
   ]
  },
  {
   "cell_type": "code",
   "execution_count": 36,
   "metadata": {},
   "outputs": [
    {
     "data": {
      "text/plain": [
       "Text(0.5, 1.0, 'Survival by class')"
      ]
     },
     "execution_count": 36,
     "metadata": {},
     "output_type": "execute_result"
    },
    {
     "data": {
      "image/png": "[encoded data removed]",
      "text/plain": [
       "<Figure size 800x500 with 1 Axes>"
      ]
     },
     "metadata": {},
     "output_type": "display_data"
    }
   ],
   "source": [
    "fig,ax = plt.subplots(figsize = (8,5))\n",
    "\n",
    "width = 0.05\n",
    "multiplier = 0\n",
    "survivor_by_class = df.groupby('Survived')['Pclass'].value_counts()\n",
    "for i,key in enumerate(survivor_by_class.keys()):\n",
    "    # getting information from each status and class\n",
    "    status_dic = {0:'deceased',1:'survived'} \n",
    "    status = key[0]\n",
    "    passenger_class = key[1] \n",
    "    # calculating percentages\n",
    "    frequence = survivor_by_class[key]\n",
    "    total_class = survivor_by_class[(1,passenger_class)] + survivor_by_class[(0,passenger_class)]\n",
    "    surv_percent = np.around((frequence*100)/total_class,1)\n",
    "    # preparing position of the bars\n",
    "    multiplier = passenger_class\n",
    "    offset = width*multiplier*2.3\n",
    "   \n",
    "   # plotting bars according to the status\n",
    "\n",
    "    if(status == 0):\n",
    "        rects = ax.bar(offset,surv_percent,width,label = '{} {}º class'.format(status_dic[status],passenger_class))\n",
    "        ax.bar_label(rects,label_type='center')\n",
    "        \n",
    "        \n",
    "    elif(status == 1):\n",
    "        rects = ax.bar(offset,surv_percent,width,bottom = survivor_by_class[(0,passenger_class)]*100/total_class,\n",
    "                       label = '{} {}º class'.format(status_dic[status],passenger_class))\n",
    "        ax.bar_label(rects,label_type='center')\n",
    "    \n",
    "    \n",
    "#Sort legends\n",
    "handles,labels = ax.get_legend_handles_labels()\n",
    "labels,handles = zip(*sorted(zip(labels,handles),key = lambda t:t[0]))\n",
    "ax.legend(handles,labels,loc = 'best',ncols = 1,fontsize = 8,borderpad = 1.5)\n",
    "\n",
    "    \n",
    "\n",
    "ax.set_xticks([0,0.5])\n",
    "ax.set_yticks(np.arange(0,140,20))\n",
    "ax.set_xlabel('Passenger status',fontsize = 12)\n",
    "ax.set_ylabel('Percentage(%)',fontsize = 12)\n",
    "ax.set_title('Survival by class',pad = 15,fontsize = 15)"
   ]
  },
  {
   "cell_type": "markdown",
   "metadata": {},
   "source": [
    "<p>First class had the greatest rate of survival</p>\n",
    "<p>Third class had the lowest rate of survival</p>"
   ]
  },
  {
   "cell_type": "markdown",
   "metadata": {},
   "source": [
    "<b>Age feature</b>"
   ]
  },
  {
   "cell_type": "code",
   "execution_count": null,
   "metadata": {},
   "outputs": [
    {
     "data": {
      "text/plain": [
       "<seaborn.axisgrid.FacetGrid at 0x24aeeadd880>"
      ]
     },
     "execution_count": 77,
     "metadata": {},
     "output_type": "execute_result"
    },
    {
     "data": {
      "image/png": "[encoded data removed]",
      "text/plain": [
       "<Figure size 600x300 with 2 Axes>"
      ]
     },
     "metadata": {},
     "output_type": "display_data"
    }
   ],
   "source": [
    "g = sns.FacetGrid(df,col = 'Survived')\n",
    "g.map(sns.histplot,\"Age\",bins = 20)"
   ]
  },
  {
   "cell_type": "markdown",
   "metadata": {},
   "source": [
    "<b>SibSp feature</b>"
   ]
  },
  {
   "cell_type": "code",
   "execution_count": null,
   "metadata": {},
   "outputs": [
    {
     "data": {
      "text/plain": [
       "Text(0.5, 1.0, 'Count of SibSp')"
      ]
     },
     "execution_count": 79,
     "metadata": {},
     "output_type": "execute_result"
    },
    {
     "data": {
      "image/png": "[encoded data removed]",
      "text/plain": [
       "<Figure size 400x400 with 1 Axes>"
      ]
     },
     "metadata": {},
     "output_type": "display_data"
    }
   ],
   "source": [
    "fig = plt.figure(figsize = (4,4))\n",
    "ax = fig.add_axes([0,0,1,1])\n",
    "sns.countplot(df,x = 'SibSp')\n",
    "sns.set_theme(style = 'whitegrid')\n",
    "for label in ax.containers:\n",
    "    ax.bar_label(label)\n",
    "ax.set_ylabel('Count')\n",
    "ax.set_yticks(np.arange(0,720,80))\n",
    "ax.set_title('Count of SibSp')"
   ]
  },
  {
   "cell_type": "code",
   "execution_count": null,
   "metadata": {},
   "outputs": [
    {
     "data": {
      "text/html": [
       "<style type=\"text/css\">\n",
       "#T_2e9b0_row0_col0 {\n",
       "  background-color: #abbfdc;\n",
       "  color: #000000;\n",
       "}\n",
       "#T_2e9b0_row0_col1 {\n",
       "  background-color: #308cbe;\n",
       "  color: #f1f1f1;\n",
       "}\n",
       "#T_2e9b0_row1_col0, #T_2e9b0_row5_col1, #T_2e9b0_row6_col1 {\n",
       "  background-color: #fff7fb;\n",
       "  color: #000000;\n",
       "}\n",
       "#T_2e9b0_row1_col1, #T_2e9b0_row5_col0, #T_2e9b0_row6_col0 {\n",
       "  background-color: #023858;\n",
       "  color: #f1f1f1;\n",
       "}\n",
       "#T_2e9b0_row2_col0 {\n",
       "  background-color: #eae6f1;\n",
       "  color: #000000;\n",
       "}\n",
       "#T_2e9b0_row2_col1 {\n",
       "  background-color: #045b8f;\n",
       "  color: #f1f1f1;\n",
       "}\n",
       "#T_2e9b0_row3_col0 {\n",
       "  background-color: #63a2cb;\n",
       "  color: #f1f1f1;\n",
       "}\n",
       "#T_2e9b0_row3_col1 {\n",
       "  background-color: #81aed2;\n",
       "  color: #f1f1f1;\n",
       "}\n",
       "#T_2e9b0_row4_col0 {\n",
       "  background-color: #1c7fb8;\n",
       "  color: #f1f1f1;\n",
       "}\n",
       "#T_2e9b0_row4_col1 {\n",
       "  background-color: #bcc7e1;\n",
       "  color: #000000;\n",
       "}\n",
       "#T_2e9b0_row7_col0 {\n",
       "  background-color: #c4cbe3;\n",
       "  color: #000000;\n",
       "}\n",
       "#T_2e9b0_row7_col1 {\n",
       "  background-color: #1379b5;\n",
       "  color: #f1f1f1;\n",
       "}\n",
       "</style>\n",
       "<table id=\"T_2e9b0\">\n",
       "  <thead>\n",
       "    <tr>\n",
       "      <th class=\"index_name level0\" >Survived</th>\n",
       "      <th id=\"T_2e9b0_level0_col0\" class=\"col_heading level0 col0\" >Deceased(%)</th>\n",
       "      <th id=\"T_2e9b0_level0_col1\" class=\"col_heading level0 col1\" >Survivor(%)</th>\n",
       "    </tr>\n",
       "    <tr>\n",
       "      <th class=\"index_name level0\" >SibSp</th>\n",
       "      <th class=\"blank col0\" >&nbsp;</th>\n",
       "      <th class=\"blank col1\" >&nbsp;</th>\n",
       "    </tr>\n",
       "  </thead>\n",
       "  <tbody>\n",
       "    <tr>\n",
       "      <th id=\"T_2e9b0_level0_row0\" class=\"row_heading level0 row0\" >0</th>\n",
       "      <td id=\"T_2e9b0_row0_col0\" class=\"data row0 col0\" >0.656766</td>\n",
       "      <td id=\"T_2e9b0_row0_col1\" class=\"data row0 col1\" >0.343234</td>\n",
       "    </tr>\n",
       "    <tr>\n",
       "      <th id=\"T_2e9b0_level0_row1\" class=\"row_heading level0 row1\" >1</th>\n",
       "      <td id=\"T_2e9b0_row1_col0\" class=\"data row1 col0\" >0.464115</td>\n",
       "      <td id=\"T_2e9b0_row1_col1\" class=\"data row1 col1\" >0.535885</td>\n",
       "    </tr>\n",
       "    <tr>\n",
       "      <th id=\"T_2e9b0_level0_row2\" class=\"row_heading level0 row2\" >2</th>\n",
       "      <td id=\"T_2e9b0_row2_col0\" class=\"data row2 col0\" >0.535714</td>\n",
       "      <td id=\"T_2e9b0_row2_col1\" class=\"data row2 col1\" >0.464286</td>\n",
       "    </tr>\n",
       "    <tr>\n",
       "      <th id=\"T_2e9b0_level0_row3\" class=\"row_heading level0 row3\" >3</th>\n",
       "      <td id=\"T_2e9b0_row3_col0\" class=\"data row3 col0\" >0.750000</td>\n",
       "      <td id=\"T_2e9b0_row3_col1\" class=\"data row3 col1\" >0.250000</td>\n",
       "    </tr>\n",
       "    <tr>\n",
       "      <th id=\"T_2e9b0_level0_row4\" class=\"row_heading level0 row4\" >4</th>\n",
       "      <td id=\"T_2e9b0_row4_col0\" class=\"data row4 col0\" >0.833333</td>\n",
       "      <td id=\"T_2e9b0_row4_col1\" class=\"data row4 col1\" >0.166667</td>\n",
       "    </tr>\n",
       "    <tr>\n",
       "      <th id=\"T_2e9b0_level0_row5\" class=\"row_heading level0 row5\" >5</th>\n",
       "      <td id=\"T_2e9b0_row5_col0\" class=\"data row5 col0\" >1.000000</td>\n",
       "      <td id=\"T_2e9b0_row5_col1\" class=\"data row5 col1\" >0.000000</td>\n",
       "    </tr>\n",
       "    <tr>\n",
       "      <th id=\"T_2e9b0_level0_row6\" class=\"row_heading level0 row6\" >8</th>\n",
       "      <td id=\"T_2e9b0_row6_col0\" class=\"data row6 col0\" >1.000000</td>\n",
       "      <td id=\"T_2e9b0_row6_col1\" class=\"data row6 col1\" >0.000000</td>\n",
       "    </tr>\n",
       "    <tr>\n",
       "      <th id=\"T_2e9b0_level0_row7\" class=\"row_heading level0 row7\" >All</th>\n",
       "      <td id=\"T_2e9b0_row7_col0\" class=\"data row7 col0\" >0.617548</td>\n",
       "      <td id=\"T_2e9b0_row7_col1\" class=\"data row7 col1\" >0.382452</td>\n",
       "    </tr>\n",
       "  </tbody>\n",
       "</table>\n"
      ],
      "text/plain": [
       "<pandas.io.formats.style.Styler at 0x24aef0afd60>"
      ]
     },
     "execution_count": 78,
     "metadata": {},
     "output_type": "execute_result"
    }
   ],
   "source": [
    "cross_sib = pd.crosstab(df.SibSp,df.Survived,margins = True,normalize = 'index')\n",
    "cross_sib.rename(mapper = {0:'Deceased(%)',1:'Survived(%)'},axis = 'columns',inplace = True)\n",
    "cross_sib.style.background_gradient()"
   ]
  },
  {
   "cell_type": "markdown",
   "metadata": {},
   "source": [
    "<p>As the number of siblings increase, there might be a trend that the survival rate gets lower.</p>\n",
    "<p>Still, it's worth noting that the count of passengers becomes considerably lower with the increasing of the number of siblings/spouses. Hence, this trend might not be very accurate</p>"
   ]
  },
  {
   "cell_type": "markdown",
   "metadata": {},
   "source": [
    "<b>Parch feature</b>"
   ]
  },
  {
   "cell_type": "code",
   "execution_count": null,
   "metadata": {},
   "outputs": [
    {
     "data": {
      "text/plain": [
       "Text(0.5, 1.0, 'Count of Parch')"
      ]
     },
     "execution_count": 81,
     "metadata": {},
     "output_type": "execute_result"
    },
    {
     "data": {
      "image/png": "[encoded data removed]",
      "text/plain": [
       "<Figure size 400x400 with 1 Axes>"
      ]
     },
     "metadata": {},
     "output_type": "display_data"
    }
   ],
   "source": [
    "fig = plt.figure(figsize = (4,4))\n",
    "ax = fig.add_axes([0,0,1,1])\n",
    "sns.countplot(df,x = 'Parch')\n",
    "sns.set_theme(style = 'whitegrid')\n",
    "for label in ax.containers:\n",
    "    ax.bar_label(label)\n",
    "ax.set_ylabel('Count')\n",
    "ax.set_title('Count of Parch')"
   ]
  },
  {
   "cell_type": "code",
   "execution_count": null,
   "metadata": {},
   "outputs": [
    {
     "data": {
      "text/html": [
       "<style type=\"text/css\">\n",
       "#T_08325_row0_col0 {\n",
       "  background-color: #8fb4d6;\n",
       "  color: #000000;\n",
       "}\n",
       "#T_08325_row0_col1 {\n",
       "  background-color: #529bc7;\n",
       "  color: #f1f1f1;\n",
       "}\n",
       "#T_08325_row1_col0 {\n",
       "  background-color: #f3edf5;\n",
       "  color: #000000;\n",
       "}\n",
       "#T_08325_row1_col1 {\n",
       "  background-color: #034d79;\n",
       "  color: #f1f1f1;\n",
       "}\n",
       "#T_08325_row2_col0 {\n",
       "  background-color: #e3e0ee;\n",
       "  color: #000000;\n",
       "}\n",
       "#T_08325_row2_col1 {\n",
       "  background-color: #046198;\n",
       "  color: #f1f1f1;\n",
       "}\n",
       "#T_08325_row3_col0, #T_08325_row4_col1, #T_08325_row6_col1 {\n",
       "  background-color: #fff7fb;\n",
       "  color: #000000;\n",
       "}\n",
       "#T_08325_row3_col1, #T_08325_row4_col0, #T_08325_row6_col0 {\n",
       "  background-color: #023858;\n",
       "  color: #f1f1f1;\n",
       "}\n",
       "#T_08325_row5_col0 {\n",
       "  background-color: #2685bb;\n",
       "  color: #f1f1f1;\n",
       "}\n",
       "#T_08325_row5_col1 {\n",
       "  background-color: #b4c4df;\n",
       "  color: #000000;\n",
       "}\n",
       "#T_08325_row7_col0 {\n",
       "  background-color: #abbfdc;\n",
       "  color: #000000;\n",
       "}\n",
       "#T_08325_row7_col1 {\n",
       "  background-color: #308cbe;\n",
       "  color: #f1f1f1;\n",
       "}\n",
       "</style>\n",
       "<table id=\"T_08325\">\n",
       "  <thead>\n",
       "    <tr>\n",
       "      <th class=\"index_name level0\" >Survived</th>\n",
       "      <th id=\"T_08325_level0_col0\" class=\"col_heading level0 col0\" >Deceased(%)</th>\n",
       "      <th id=\"T_08325_level0_col1\" class=\"col_heading level0 col1\" >Survivor(%)</th>\n",
       "    </tr>\n",
       "    <tr>\n",
       "      <th class=\"index_name level0\" >Parch</th>\n",
       "      <th class=\"blank col0\" >&nbsp;</th>\n",
       "      <th class=\"blank col1\" >&nbsp;</th>\n",
       "    </tr>\n",
       "  </thead>\n",
       "  <tbody>\n",
       "    <tr>\n",
       "      <th id=\"T_08325_level0_row0\" class=\"row_heading level0 row0\" >0</th>\n",
       "      <td id=\"T_08325_row0_col0\" class=\"data row0 col0\" >0.658284</td>\n",
       "      <td id=\"T_08325_row0_col1\" class=\"data row0 col1\" >0.341716</td>\n",
       "    </tr>\n",
       "    <tr>\n",
       "      <th id=\"T_08325_level0_row1\" class=\"row_heading level0 row1\" >1</th>\n",
       "      <td id=\"T_08325_row1_col0\" class=\"data row1 col0\" >0.449153</td>\n",
       "      <td id=\"T_08325_row1_col1\" class=\"data row1 col1\" >0.550847</td>\n",
       "    </tr>\n",
       "    <tr>\n",
       "      <th id=\"T_08325_level0_row2\" class=\"row_heading level0 row2\" >2</th>\n",
       "      <td id=\"T_08325_row2_col0\" class=\"data row2 col0\" >0.500000</td>\n",
       "      <td id=\"T_08325_row2_col1\" class=\"data row2 col1\" >0.500000</td>\n",
       "    </tr>\n",
       "    <tr>\n",
       "      <th id=\"T_08325_level0_row3\" class=\"row_heading level0 row3\" >3</th>\n",
       "      <td id=\"T_08325_row3_col0\" class=\"data row3 col0\" >0.400000</td>\n",
       "      <td id=\"T_08325_row3_col1\" class=\"data row3 col1\" >0.600000</td>\n",
       "    </tr>\n",
       "    <tr>\n",
       "      <th id=\"T_08325_level0_row4\" class=\"row_heading level0 row4\" >4</th>\n",
       "      <td id=\"T_08325_row4_col0\" class=\"data row4 col0\" >1.000000</td>\n",
       "      <td id=\"T_08325_row4_col1\" class=\"data row4 col1\" >0.000000</td>\n",
       "    </tr>\n",
       "    <tr>\n",
       "      <th id=\"T_08325_level0_row5\" class=\"row_heading level0 row5\" >5</th>\n",
       "      <td id=\"T_08325_row5_col0\" class=\"data row5 col0\" >0.800000</td>\n",
       "      <td id=\"T_08325_row5_col1\" class=\"data row5 col1\" >0.200000</td>\n",
       "    </tr>\n",
       "    <tr>\n",
       "      <th id=\"T_08325_level0_row6\" class=\"row_heading level0 row6\" >6</th>\n",
       "      <td id=\"T_08325_row6_col0\" class=\"data row6 col0\" >1.000000</td>\n",
       "      <td id=\"T_08325_row6_col1\" class=\"data row6 col1\" >0.000000</td>\n",
       "    </tr>\n",
       "    <tr>\n",
       "      <th id=\"T_08325_level0_row7\" class=\"row_heading level0 row7\" >All</th>\n",
       "      <td id=\"T_08325_row7_col0\" class=\"data row7 col0\" >0.617548</td>\n",
       "      <td id=\"T_08325_row7_col1\" class=\"data row7 col1\" >0.382452</td>\n",
       "    </tr>\n",
       "  </tbody>\n",
       "</table>\n"
      ],
      "text/plain": [
       "<pandas.io.formats.style.Styler at 0x24af0d91a60>"
      ]
     },
     "execution_count": 80,
     "metadata": {},
     "output_type": "execute_result"
    }
   ],
   "source": [
    "cross_parch = pd.crosstab(df.Parch,df.Survived,margins = True,normalize = 'index')\n",
    "cross_parch.rename(mapper = {0:'Deceased(%)',1:'Survived(%)'},axis = 'columns',inplace = True)\n",
    "cross_parch.style.background_gradient()"
   ]
  },
  {
   "cell_type": "markdown",
   "metadata": {},
   "source": [
    "<p>Passengers with less parents/children seems to have a higher rate of survival.</p>\n",
    "<p>Still, it's worth noting that the count of passengers becomes considerably lower with the increasing of the number of parent/children. Hence, this trend might not be very accurate</p>"
   ]
  },
  {
   "cell_type": "markdown",
   "metadata": {},
   "source": [
    "<b>Ticket feature</b>"
   ]
  },
  {
   "cell_type": "markdown",
   "metadata": {},
   "source": [
    "<b>Embarked feature</b>"
   ]
  },
  {
   "cell_type": "code",
   "execution_count": 41,
   "metadata": {},
   "outputs": [
    {
     "data": {
      "image/png": "[encoded data removed]",
      "text/plain": [
       "<Figure size 800x300 with 1 Axes>"
      ]
     },
     "metadata": {},
     "output_type": "display_data"
    }
   ],
   "source": [
    "fig = plt.figure(figsize = (8,3))\n",
    "ax = fig.add_axes([0,0,1,1])\n",
    "sns.countplot(df,x = 'Survived',hue = 'Embarked')\n",
    "sns.set_theme(style = 'whitegrid')\n",
    "ax.set_xticks([0,1],('Deceased','Survived'))\n",
    "ax.set_yticks(np.arange(0,540,60))\n",
    "ax.set_xlabel('Passenger status',fontsize = 12)\n",
    "ax.set_ylabel('Count',fontsize = 12)\n",
    "ax.set_title('Survival by Port of Embarcation',fontsize = 14,pad = 10)\n",
    "ax.legend(['Southampton','Cherbourg','Queenstown'])\n",
    "for label in ax.containers:\n",
    "    ax.bar_label(label)"
   ]
  },
  {
   "cell_type": "code",
   "execution_count": 42,
   "metadata": {},
   "outputs": [
    {
     "data": {
      "text/html": [
       "<style type=\"text/css\">\n",
       "#T_2161e_row0_col0, #T_2161e_row2_col1 {\n",
       "  background-color: #fff7fb;\n",
       "  color: #000000;\n",
       "}\n",
       "#T_2161e_row0_col1, #T_2161e_row2_col0 {\n",
       "  background-color: #023858;\n",
       "  color: #f1f1f1;\n",
       "}\n",
       "#T_2161e_row1_col0 {\n",
       "  background-color: #056fae;\n",
       "  color: #f1f1f1;\n",
       "}\n",
       "#T_2161e_row1_col1 {\n",
       "  background-color: #d2d2e7;\n",
       "  color: #000000;\n",
       "}\n",
       "#T_2161e_row3_col0 {\n",
       "  background-color: #0569a4;\n",
       "  color: #f1f1f1;\n",
       "}\n",
       "#T_2161e_row3_col1 {\n",
       "  background-color: #d9d8ea;\n",
       "  color: #000000;\n",
       "}\n",
       "</style>\n",
       "<table id=\"T_2161e\">\n",
       "  <thead>\n",
       "    <tr>\n",
       "      <th class=\"index_name level0\" >Survived</th>\n",
       "      <th id=\"T_2161e_level0_col0\" class=\"col_heading level0 col0\" >Deceased(%)</th>\n",
       "      <th id=\"T_2161e_level0_col1\" class=\"col_heading level0 col1\" >Survived(%)</th>\n",
       "    </tr>\n",
       "    <tr>\n",
       "      <th class=\"index_name level0\" >Embarked</th>\n",
       "      <th class=\"blank col0\" >&nbsp;</th>\n",
       "      <th class=\"blank col1\" >&nbsp;</th>\n",
       "    </tr>\n",
       "  </thead>\n",
       "  <tbody>\n",
       "    <tr>\n",
       "      <th id=\"T_2161e_level0_row0\" class=\"row_heading level0 row0\" >C</th>\n",
       "      <td id=\"T_2161e_row0_col0\" class=\"data row0 col0\" >0.446429</td>\n",
       "      <td id=\"T_2161e_row0_col1\" class=\"data row0 col1\" >0.553571</td>\n",
       "    </tr>\n",
       "    <tr>\n",
       "      <th id=\"T_2161e_level0_row1\" class=\"row_heading level0 row1\" >Q</th>\n",
       "      <td id=\"T_2161e_row1_col0\" class=\"data row1 col0\" >0.610390</td>\n",
       "      <td id=\"T_2161e_row1_col1\" class=\"data row1 col1\" >0.389610</td>\n",
       "    </tr>\n",
       "    <tr>\n",
       "      <th id=\"T_2161e_level0_row2\" class=\"row_heading level0 row2\" >S</th>\n",
       "      <td id=\"T_2161e_row2_col0\" class=\"data row2 col0\" >0.663043</td>\n",
       "      <td id=\"T_2161e_row2_col1\" class=\"data row2 col1\" >0.336957</td>\n",
       "    </tr>\n",
       "    <tr>\n",
       "      <th id=\"T_2161e_level0_row3\" class=\"row_heading level0 row3\" >All</th>\n",
       "      <td id=\"T_2161e_row3_col0\" class=\"data row3 col0\" >0.617548</td>\n",
       "      <td id=\"T_2161e_row3_col1\" class=\"data row3 col1\" >0.382452</td>\n",
       "    </tr>\n",
       "  </tbody>\n",
       "</table>\n"
      ],
      "text/plain": [
       "<pandas.io.formats.style.Styler at 0x21ee8beddf0>"
      ]
     },
     "execution_count": 42,
     "metadata": {},
     "output_type": "execute_result"
    }
   ],
   "source": [
    "cross_parch = pd.crosstab(df.Embarked,df.Survived,margins = True,normalize = 'index')\n",
    "cross_parch.rename(mapper = {0:'Deceased(%)',1:'Survived(%)'},axis = 'columns',inplace = True)\n",
    "cross_parch.style.background_gradient()"
   ]
  },
  {
   "cell_type": "markdown",
   "metadata": {},
   "source": [
    "Passengers that had embarked in Southampton had the higher rate of survival"
   ]
  },
  {
   "cell_type": "markdown",
   "metadata": {},
   "source": [
    "## Pre processing"
   ]
  },
  {
   "cell_type": "code",
   "execution_count": null,
   "metadata": {},
   "outputs": [
    {
     "data": {
      "text/plain": [
       "Index(['Survived', 'Pclass', 'Sex', 'SibSp', 'Parch', 'Ticket', 'Embarked'], dtype='object')"
      ]
     },
     "execution_count": 82,
     "metadata": {},
     "output_type": "execute_result"
    }
   ],
   "source": [
    "categorical_attributes = df.drop(numerical_attributes,axis = 'columns').columns\n",
    "categorical_attributes"
   ]
  },
  {
   "cell_type": "code",
   "execution_count": null,
   "metadata": {},
   "outputs": [
    {
     "name": "stdout",
     "output_type": "stream",
     "text": [
      "Feature 'Survived' has 2 unique categories\n",
      "Feature 'Pclass' has 3 unique categories\n",
      "Feature 'Sex' has 2 unique categories\n",
      "Feature 'SibSp' has 7 unique categories\n",
      "Feature 'Parch' has 7 unique categories\n",
      "Feature 'Ticket' has 680 unique categories\n",
      "Feature 'Embarked' has 3 unique categories\n"
     ]
    }
   ],
   "source": [
    "for col_name in df[categorical_attributes].columns:\n",
    "    unique_cat = len(df[col_name].unique())\n",
    "    print(\"Feature '{col_name}' has {unique_cat} unique categories\".format(col_name = col_name,unique_cat = unique_cat))"
   ]
  },
  {
   "cell_type": "code",
   "execution_count": null,
   "metadata": {},
   "outputs": [],
   "source": [
    "X_train,y_train = df.drop('Survived',axis=1),df['Survived'] #Splitting features and labels"
   ]
  },
  {
   "cell_type": "markdown",
   "metadata": {},
   "source": [
    "The most part of machine learning algorithms work better with numerical data. Hence, we're going to encode some categorical attributes."
   ]
  },
  {
   "cell_type": "markdown",
   "metadata": {},
   "source": [
    "### Categorical Attributes"
   ]
  },
  {
   "cell_type": "code",
   "execution_count": null,
   "metadata": {},
   "outputs": [
    {
     "data": {
      "text/plain": [
       "['Pclass', 'Sex', 'SibSp', 'Parch', 'Ticket', 'Embarked']"
      ]
     },
     "execution_count": 86,
     "metadata": {},
     "output_type": "execute_result"
    }
   ],
   "source": [
    "categorical_attributes = list(categorical_attributes)\n",
    "categorical_attributes.pop(categorical_attributes.index('Survived')) #Taking off the label's name from the list\n",
    "categorical_attributes"
   ]
  },
  {
   "cell_type": "code",
   "execution_count": null,
   "metadata": {},
   "outputs": [
    {
     "name": "stdout",
     "output_type": "stream",
     "text": [
      "Sex\n",
      "male      577\n",
      "female    312\n",
      "Name: count, dtype: int64\n",
      "Ticket\n",
      "347082      7\n",
      "CA. 2343    7\n",
      "1601        7\n",
      "3101295     6\n",
      "CA 2144     6\n",
      "           ..\n",
      "9234        1\n",
      "19988       1\n",
      "2693        1\n",
      "PC 17612    1\n",
      "370376      1\n",
      "Name: count, Length: 680, dtype: int64\n",
      "Embarked\n",
      "S    644\n",
      "C    168\n",
      "Q     77\n",
      "Name: count, dtype: int64\n"
     ]
    }
   ],
   "source": [
    "for col in categorical_attributes:\n",
    "    if X_train[col].dtypes == 'object':\n",
    "        print(X_train[col].value_counts())\n",
    "    else:\n",
    "        continue"
   ]
  },
  {
   "cell_type": "markdown",
   "metadata": {},
   "source": [
    "The categorical attributes that we want to encode are <b>Sex</b>,<b>Ticket</b> and <b>Embarked</b>"
   ]
  },
  {
   "cell_type": "code",
   "execution_count": null,
   "metadata": {},
   "outputs": [
    {
     "data": {
      "text/plain": [
       "680"
      ]
     },
     "execution_count": 88,
     "metadata": {},
     "output_type": "execute_result"
    }
   ],
   "source": [
    "#Evaluating the number of categories in Ticket attribute\n",
    "len(X_train['Ticket'].unique())"
   ]
  },
  {
   "cell_type": "markdown",
   "metadata": {},
   "source": [
    "<p>The ticket attribute has 680 categories. We could try to encode this attribute, but it will slow down training since there is a large number of categories.</p>\n",
    "<p>In addition the fare attribute can represent as well the kind of the ticket represented by the 'Ticket' attribute</p>\n",
    "\n",
    "Hence we can drop it."
   ]
  },
  {
   "cell_type": "code",
   "execution_count": null,
   "metadata": {},
   "outputs": [],
   "source": [
    "#Creating a transformer to encode and drop selected categorical attributes\n",
    "class CategoricalAttributesEncoder(BaseEstimator,TransformerMixin):\n",
    "    def fit(self,X,y = None):\n",
    "        return self\n",
    "    def transform(self,X,y = None):\n",
    "        #Integer-encoding the Sex attribute\n",
    "        X['Sex'] = X['Sex'].map({'male':0,'female':1}) \n",
    "        #Dropping Ticket attribute\n",
    "        X.drop('Ticket',axis=1,inplace = True)\n",
    "        cat_encoder = OneHotEncoder(handle_unknown='ignore')\n",
    "        #Embarked attribute isn't an ordinal category, so we may use one-hot enconding\n",
    "        embarked_encoded = cat_encoder.fit_transform(X[['Embarked']])\n",
    "        X[cat_encoder.categories_[0]] = embarked_encoded.toarray()\n",
    "        X.drop('Embarked',axis=1,inplace = True)\n",
    "        return X\n",
    "        \n",
    "        "
   ]
  },
  {
   "cell_type": "code",
   "execution_count": null,
   "metadata": {},
   "outputs": [
    {
     "data": {
      "text/html": [
       "<div>\n",
       "<style scoped>\n",
       "    .dataframe tbody tr th:only-of-type {\n",
       "        vertical-align: middle;\n",
       "    }\n",
       "\n",
       "    .dataframe tbody tr th {\n",
       "        vertical-align: top;\n",
       "    }\n",
       "\n",
       "    .dataframe thead th {\n",
       "        text-align: right;\n",
       "    }\n",
       "</style>\n",
       "<table border=\"1\" class=\"dataframe\">\n",
       "  <thead>\n",
       "    <tr style=\"text-align: right;\">\n",
       "      <th></th>\n",
       "      <th>Pclass</th>\n",
       "      <th>Sex</th>\n",
       "      <th>Age</th>\n",
       "      <th>SibSp</th>\n",
       "      <th>Parch</th>\n",
       "      <th>Fare</th>\n",
       "      <th>C</th>\n",
       "      <th>Q</th>\n",
       "      <th>S</th>\n",
       "    </tr>\n",
       "    <tr>\n",
       "      <th>PassengerId</th>\n",
       "      <th></th>\n",
       "      <th></th>\n",
       "      <th></th>\n",
       "      <th></th>\n",
       "      <th></th>\n",
       "      <th></th>\n",
       "      <th></th>\n",
       "      <th></th>\n",
       "      <th></th>\n",
       "    </tr>\n",
       "  </thead>\n",
       "  <tbody>\n",
       "    <tr>\n",
       "      <th>1</th>\n",
       "      <td>3</td>\n",
       "      <td>0</td>\n",
       "      <td>22.000000</td>\n",
       "      <td>1</td>\n",
       "      <td>0</td>\n",
       "      <td>7.2500</td>\n",
       "      <td>0.0</td>\n",
       "      <td>0.0</td>\n",
       "      <td>1.0</td>\n",
       "    </tr>\n",
       "    <tr>\n",
       "      <th>2</th>\n",
       "      <td>1</td>\n",
       "      <td>1</td>\n",
       "      <td>38.000000</td>\n",
       "      <td>1</td>\n",
       "      <td>0</td>\n",
       "      <td>71.2833</td>\n",
       "      <td>1.0</td>\n",
       "      <td>0.0</td>\n",
       "      <td>0.0</td>\n",
       "    </tr>\n",
       "    <tr>\n",
       "      <th>3</th>\n",
       "      <td>3</td>\n",
       "      <td>1</td>\n",
       "      <td>26.000000</td>\n",
       "      <td>0</td>\n",
       "      <td>0</td>\n",
       "      <td>7.9250</td>\n",
       "      <td>0.0</td>\n",
       "      <td>0.0</td>\n",
       "      <td>1.0</td>\n",
       "    </tr>\n",
       "    <tr>\n",
       "      <th>4</th>\n",
       "      <td>1</td>\n",
       "      <td>1</td>\n",
       "      <td>35.000000</td>\n",
       "      <td>1</td>\n",
       "      <td>0</td>\n",
       "      <td>53.1000</td>\n",
       "      <td>0.0</td>\n",
       "      <td>0.0</td>\n",
       "      <td>1.0</td>\n",
       "    </tr>\n",
       "    <tr>\n",
       "      <th>5</th>\n",
       "      <td>3</td>\n",
       "      <td>0</td>\n",
       "      <td>35.000000</td>\n",
       "      <td>0</td>\n",
       "      <td>0</td>\n",
       "      <td>8.0500</td>\n",
       "      <td>0.0</td>\n",
       "      <td>0.0</td>\n",
       "      <td>1.0</td>\n",
       "    </tr>\n",
       "    <tr>\n",
       "      <th>...</th>\n",
       "      <td>...</td>\n",
       "      <td>...</td>\n",
       "      <td>...</td>\n",
       "      <td>...</td>\n",
       "      <td>...</td>\n",
       "      <td>...</td>\n",
       "      <td>...</td>\n",
       "      <td>...</td>\n",
       "      <td>...</td>\n",
       "    </tr>\n",
       "    <tr>\n",
       "      <th>887</th>\n",
       "      <td>2</td>\n",
       "      <td>0</td>\n",
       "      <td>27.000000</td>\n",
       "      <td>0</td>\n",
       "      <td>0</td>\n",
       "      <td>13.0000</td>\n",
       "      <td>0.0</td>\n",
       "      <td>0.0</td>\n",
       "      <td>1.0</td>\n",
       "    </tr>\n",
       "    <tr>\n",
       "      <th>888</th>\n",
       "      <td>1</td>\n",
       "      <td>1</td>\n",
       "      <td>19.000000</td>\n",
       "      <td>0</td>\n",
       "      <td>0</td>\n",
       "      <td>30.0000</td>\n",
       "      <td>0.0</td>\n",
       "      <td>0.0</td>\n",
       "      <td>1.0</td>\n",
       "    </tr>\n",
       "    <tr>\n",
       "      <th>889</th>\n",
       "      <td>3</td>\n",
       "      <td>1</td>\n",
       "      <td>29.642088</td>\n",
       "      <td>1</td>\n",
       "      <td>2</td>\n",
       "      <td>23.4500</td>\n",
       "      <td>0.0</td>\n",
       "      <td>0.0</td>\n",
       "      <td>1.0</td>\n",
       "    </tr>\n",
       "    <tr>\n",
       "      <th>890</th>\n",
       "      <td>1</td>\n",
       "      <td>0</td>\n",
       "      <td>26.000000</td>\n",
       "      <td>0</td>\n",
       "      <td>0</td>\n",
       "      <td>30.0000</td>\n",
       "      <td>1.0</td>\n",
       "      <td>0.0</td>\n",
       "      <td>0.0</td>\n",
       "    </tr>\n",
       "    <tr>\n",
       "      <th>891</th>\n",
       "      <td>3</td>\n",
       "      <td>0</td>\n",
       "      <td>32.000000</td>\n",
       "      <td>0</td>\n",
       "      <td>0</td>\n",
       "      <td>7.7500</td>\n",
       "      <td>0.0</td>\n",
       "      <td>1.0</td>\n",
       "      <td>0.0</td>\n",
       "    </tr>\n",
       "  </tbody>\n",
       "</table>\n",
       "<p>889 rows × 9 columns</p>\n",
       "</div>"
      ],
      "text/plain": [
       "             Pclass  Sex        Age  SibSp  Parch     Fare    C    Q    S\n",
       "PassengerId                                                              \n",
       "1                 3    0  22.000000      1      0   7.2500  0.0  0.0  1.0\n",
       "2                 1    1  38.000000      1      0  71.2833  1.0  0.0  0.0\n",
       "3                 3    1  26.000000      0      0   7.9250  0.0  0.0  1.0\n",
       "4                 1    1  35.000000      1      0  53.1000  0.0  0.0  1.0\n",
       "5                 3    0  35.000000      0      0   8.0500  0.0  0.0  1.0\n",
       "...             ...  ...        ...    ...    ...      ...  ...  ...  ...\n",
       "887               2    0  27.000000      0      0  13.0000  0.0  0.0  1.0\n",
       "888               1    1  19.000000      0      0  30.0000  0.0  0.0  1.0\n",
       "889               3    1  29.642088      1      2  23.4500  0.0  0.0  1.0\n",
       "890               1    0  26.000000      0      0  30.0000  1.0  0.0  0.0\n",
       "891               3    0  32.000000      0      0   7.7500  0.0  1.0  0.0\n",
       "\n",
       "[889 rows x 9 columns]"
      ]
     },
     "execution_count": 90,
     "metadata": {},
     "output_type": "execute_result"
    }
   ],
   "source": [
    "final_cat_encoder = CategoricalAttributesEncoder()\n",
    "final_cat_encoder.transform(X_train)"
   ]
  },
  {
   "cell_type": "markdown",
   "metadata": {},
   "source": [
    "### Numerical Attributes"
   ]
  },
  {
   "cell_type": "markdown",
   "metadata": {},
   "source": [
    "Some classifiers work better with scaled attributes, as SVM. Furthermore, we need to handle outliers."
   ]
  },
  {
   "cell_type": "code",
   "execution_count": null,
   "metadata": {},
   "outputs": [
    {
     "data": {
      "text/plain": [
       "['Age', 'Fare']"
      ]
     },
     "execution_count": 91,
     "metadata": {},
     "output_type": "execute_result"
    }
   ],
   "source": [
    "numerical_attributes"
   ]
  },
  {
   "cell_type": "code",
   "execution_count": null,
   "metadata": {},
   "outputs": [],
   "source": [
    "scaler = StandardScaler()\n",
    "scaled_cols = scaler.fit_transform(X_train[['Age','Fare']])"
   ]
  },
  {
   "cell_type": "code",
   "execution_count": null,
   "metadata": {},
   "outputs": [],
   "source": [
    "X_train['Age'],X_train['Fare'] = scaled_cols[:,0],scaled_cols[:,1]"
   ]
  },
  {
   "cell_type": "code",
   "execution_count": null,
   "metadata": {},
   "outputs": [
    {
     "data": {
      "text/html": [
       "<div>\n",
       "<style scoped>\n",
       "    .dataframe tbody tr th:only-of-type {\n",
       "        vertical-align: middle;\n",
       "    }\n",
       "\n",
       "    .dataframe tbody tr th {\n",
       "        vertical-align: top;\n",
       "    }\n",
       "\n",
       "    .dataframe thead th {\n",
       "        text-align: right;\n",
       "    }\n",
       "</style>\n",
       "<table border=\"1\" class=\"dataframe\">\n",
       "  <thead>\n",
       "    <tr style=\"text-align: right;\">\n",
       "      <th></th>\n",
       "      <th>Pclass</th>\n",
       "      <th>Sex</th>\n",
       "      <th>Age</th>\n",
       "      <th>SibSp</th>\n",
       "      <th>Parch</th>\n",
       "      <th>Fare</th>\n",
       "      <th>C</th>\n",
       "      <th>Q</th>\n",
       "      <th>S</th>\n",
       "    </tr>\n",
       "    <tr>\n",
       "      <th>PassengerId</th>\n",
       "      <th></th>\n",
       "      <th></th>\n",
       "      <th></th>\n",
       "      <th></th>\n",
       "      <th></th>\n",
       "      <th></th>\n",
       "      <th></th>\n",
       "      <th></th>\n",
       "      <th></th>\n",
       "    </tr>\n",
       "  </thead>\n",
       "  <tbody>\n",
       "    <tr>\n",
       "      <th>1</th>\n",
       "      <td>3</td>\n",
       "      <td>0</td>\n",
       "      <td>-5.896191e-01</td>\n",
       "      <td>1</td>\n",
       "      <td>0</td>\n",
       "      <td>-0.500240</td>\n",
       "      <td>0.0</td>\n",
       "      <td>0.0</td>\n",
       "      <td>1.0</td>\n",
       "    </tr>\n",
       "    <tr>\n",
       "      <th>2</th>\n",
       "      <td>1</td>\n",
       "      <td>1</td>\n",
       "      <td>6.448479e-01</td>\n",
       "      <td>1</td>\n",
       "      <td>0</td>\n",
       "      <td>0.788947</td>\n",
       "      <td>1.0</td>\n",
       "      <td>0.0</td>\n",
       "      <td>0.0</td>\n",
       "    </tr>\n",
       "    <tr>\n",
       "      <th>3</th>\n",
       "      <td>3</td>\n",
       "      <td>1</td>\n",
       "      <td>-2.810024e-01</td>\n",
       "      <td>0</td>\n",
       "      <td>0</td>\n",
       "      <td>-0.486650</td>\n",
       "      <td>0.0</td>\n",
       "      <td>0.0</td>\n",
       "      <td>1.0</td>\n",
       "    </tr>\n",
       "    <tr>\n",
       "      <th>4</th>\n",
       "      <td>1</td>\n",
       "      <td>1</td>\n",
       "      <td>4.133854e-01</td>\n",
       "      <td>1</td>\n",
       "      <td>0</td>\n",
       "      <td>0.422861</td>\n",
       "      <td>0.0</td>\n",
       "      <td>0.0</td>\n",
       "      <td>1.0</td>\n",
       "    </tr>\n",
       "    <tr>\n",
       "      <th>5</th>\n",
       "      <td>3</td>\n",
       "      <td>0</td>\n",
       "      <td>4.133854e-01</td>\n",
       "      <td>0</td>\n",
       "      <td>0</td>\n",
       "      <td>-0.484133</td>\n",
       "      <td>0.0</td>\n",
       "      <td>0.0</td>\n",
       "      <td>1.0</td>\n",
       "    </tr>\n",
       "    <tr>\n",
       "      <th>...</th>\n",
       "      <td>...</td>\n",
       "      <td>...</td>\n",
       "      <td>...</td>\n",
       "      <td>...</td>\n",
       "      <td>...</td>\n",
       "      <td>...</td>\n",
       "      <td>...</td>\n",
       "      <td>...</td>\n",
       "      <td>...</td>\n",
       "    </tr>\n",
       "    <tr>\n",
       "      <th>887</th>\n",
       "      <td>2</td>\n",
       "      <td>0</td>\n",
       "      <td>-2.038482e-01</td>\n",
       "      <td>0</td>\n",
       "      <td>0</td>\n",
       "      <td>-0.384475</td>\n",
       "      <td>0.0</td>\n",
       "      <td>0.0</td>\n",
       "      <td>1.0</td>\n",
       "    </tr>\n",
       "    <tr>\n",
       "      <th>888</th>\n",
       "      <td>1</td>\n",
       "      <td>1</td>\n",
       "      <td>-8.210817e-01</td>\n",
       "      <td>0</td>\n",
       "      <td>0</td>\n",
       "      <td>-0.042213</td>\n",
       "      <td>0.0</td>\n",
       "      <td>0.0</td>\n",
       "      <td>1.0</td>\n",
       "    </tr>\n",
       "    <tr>\n",
       "      <th>889</th>\n",
       "      <td>3</td>\n",
       "      <td>1</td>\n",
       "      <td>-2.741067e-16</td>\n",
       "      <td>1</td>\n",
       "      <td>2</td>\n",
       "      <td>-0.174084</td>\n",
       "      <td>0.0</td>\n",
       "      <td>0.0</td>\n",
       "      <td>1.0</td>\n",
       "    </tr>\n",
       "    <tr>\n",
       "      <th>890</th>\n",
       "      <td>1</td>\n",
       "      <td>0</td>\n",
       "      <td>-2.810024e-01</td>\n",
       "      <td>0</td>\n",
       "      <td>0</td>\n",
       "      <td>-0.042213</td>\n",
       "      <td>1.0</td>\n",
       "      <td>0.0</td>\n",
       "      <td>0.0</td>\n",
       "    </tr>\n",
       "    <tr>\n",
       "      <th>891</th>\n",
       "      <td>3</td>\n",
       "      <td>0</td>\n",
       "      <td>1.819228e-01</td>\n",
       "      <td>0</td>\n",
       "      <td>0</td>\n",
       "      <td>-0.490173</td>\n",
       "      <td>0.0</td>\n",
       "      <td>1.0</td>\n",
       "      <td>0.0</td>\n",
       "    </tr>\n",
       "  </tbody>\n",
       "</table>\n",
       "<p>889 rows × 9 columns</p>\n",
       "</div>"
      ],
      "text/plain": [
       "             Pclass  Sex           Age  SibSp  Parch      Fare    C    Q    S\n",
       "PassengerId                                                                  \n",
       "1                 3    0 -5.896191e-01      1      0 -0.500240  0.0  0.0  1.0\n",
       "2                 1    1  6.448479e-01      1      0  0.788947  1.0  0.0  0.0\n",
       "3                 3    1 -2.810024e-01      0      0 -0.486650  0.0  0.0  1.0\n",
       "4                 1    1  4.133854e-01      1      0  0.422861  0.0  0.0  1.0\n",
       "5                 3    0  4.133854e-01      0      0 -0.484133  0.0  0.0  1.0\n",
       "...             ...  ...           ...    ...    ...       ...  ...  ...  ...\n",
       "887               2    0 -2.038482e-01      0      0 -0.384475  0.0  0.0  1.0\n",
       "888               1    1 -8.210817e-01      0      0 -0.042213  0.0  0.0  1.0\n",
       "889               3    1 -2.741067e-16      1      2 -0.174084  0.0  0.0  1.0\n",
       "890               1    0 -2.810024e-01      0      0 -0.042213  1.0  0.0  0.0\n",
       "891               3    0  1.819228e-01      0      0 -0.490173  0.0  1.0  0.0\n",
       "\n",
       "[889 rows x 9 columns]"
      ]
     },
     "execution_count": 94,
     "metadata": {},
     "output_type": "execute_result"
    }
   ],
   "source": [
    "X_train"
   ]
  },
  {
   "cell_type": "code",
   "execution_count": null,
   "metadata": {},
   "outputs": [],
   "source": [
    "# Creating a transformer to preprocess the numerical attributes\n",
    "class NumericalAttributesTransformer(BaseEstimator,TransformerMixin): \n",
    "    def fit(self,X,y = None):\n",
    "        return self\n",
    "    def transform(self,X,y = None):\n",
    "        std_scaler = StandardScaler()\n",
    "        X[numerical_attributes] = std_scaler.fit_transform(X[numerical_attributes])\n",
    "        return X"
   ]
  },
  {
   "cell_type": "markdown",
   "metadata": {},
   "source": [
    "## Select and Train a Model"
   ]
  },
  {
   "cell_type": "code",
   "execution_count": null,
   "metadata": {},
   "outputs": [],
   "source": [
    "def list_to_df(listt,metric_name):\n",
    "    df = pd.DataFrame(listt,columns = ['Model',metric_name])\n",
    "    df.set_index('Model',drop = True,inplace = True)\n",
    "    return df\n"
   ]
  },
  {
   "cell_type": "markdown",
   "metadata": {},
   "source": [
    "At first, we're going to evaluate the accuracy for each model"
   ]
  },
  {
   "cell_type": "code",
   "execution_count": null,
   "metadata": {},
   "outputs": [],
   "source": [
    "results = []\n",
    "def CrossVal(model,name,X_train,y_train):\n",
    "    model.fit(X_train,y_train)\n",
    "    scores = cross_val_score(model,X_train,y_train,cv = 10, scoring = 'accuracy').mean()\n",
    "    results.append((name,scores))\n",
    "    \n"
   ]
  },
  {
   "cell_type": "code",
   "execution_count": null,
   "metadata": {},
   "outputs": [],
   "source": [
    "results = []\n",
    "\n",
    "lin_svc_cls = LinearSVC(loss='hinge',max_iter=100000,random_state=42)\n",
    "lin_svc_scores = CrossVal(lin_svc_cls,'LinearSVC',X_train,y_train)\n",
    "\n",
    "svc_cls = SVC(kernel = 'rbf',random_state=42)\n",
    "svc_scores = CrossVal(svc_cls,'SVC',X_train,y_train)\n",
    "\n",
    "sgd_cls = SGDClassifier(random_state=42)\n",
    "sgd_scores = CrossVal(sgd_cls,'SGD',X_train,y_train)\n",
    "\n",
    "tree_cls = DecisionTreeClassifier(min_samples_leaf=10,random_state=42)\n",
    "tree_scores = CrossVal(tree_cls,'Decision Tree',X_train,y_train)\n",
    "\n",
    "forest_cls = RandomForestClassifier(random_state=42)\n",
    "tree_scores = CrossVal(forest_cls,'Random Forest',X_train,y_train)\n",
    "\n",
    "accuracy = list_to_df(results,'Accuracy')"
   ]
  },
  {
   "cell_type": "code",
   "execution_count": null,
   "metadata": {},
   "outputs": [
    {
     "data": {
      "text/html": [
       "<div>\n",
       "<style scoped>\n",
       "    .dataframe tbody tr th:only-of-type {\n",
       "        vertical-align: middle;\n",
       "    }\n",
       "\n",
       "    .dataframe tbody tr th {\n",
       "        vertical-align: top;\n",
       "    }\n",
       "\n",
       "    .dataframe thead th {\n",
       "        text-align: right;\n",
       "    }\n",
       "</style>\n",
       "<table border=\"1\" class=\"dataframe\">\n",
       "  <thead>\n",
       "    <tr style=\"text-align: right;\">\n",
       "      <th></th>\n",
       "      <th>Accuracy</th>\n",
       "    </tr>\n",
       "    <tr>\n",
       "      <th>Model</th>\n",
       "      <th></th>\n",
       "    </tr>\n",
       "  </thead>\n",
       "  <tbody>\n",
       "    <tr>\n",
       "      <th>SVC</th>\n",
       "      <td>0.825677</td>\n",
       "    </tr>\n",
       "    <tr>\n",
       "      <th>Random Forest</th>\n",
       "      <td>0.813317</td>\n",
       "    </tr>\n",
       "    <tr>\n",
       "      <th>Decision Tree</th>\n",
       "      <td>0.806512</td>\n",
       "    </tr>\n",
       "    <tr>\n",
       "      <th>LinearSVC</th>\n",
       "      <td>0.786249</td>\n",
       "    </tr>\n",
       "    <tr>\n",
       "      <th>SGD</th>\n",
       "      <td>0.717735</td>\n",
       "    </tr>\n",
       "  </tbody>\n",
       "</table>\n",
       "</div>"
      ],
      "text/plain": [
       "               Accuracy\n",
       "Model                  \n",
       "SVC            0.825677\n",
       "Random Forest  0.813317\n",
       "Decision Tree  0.806512\n",
       "LinearSVC      0.786249\n",
       "SGD            0.717735"
      ]
     },
     "execution_count": 99,
     "metadata": {},
     "output_type": "execute_result"
    }
   ],
   "source": [
    "accuracy.sort_values('Accuracy',ascending = False)"
   ]
  },
  {
   "cell_type": "markdown",
   "metadata": {},
   "source": [
    "<p>We can see that SVC has the best accuracy but we still <b>need to check for other metrics</b>.</p> \n",
    "<p>ROC curve will evaluate at what cost (False Positives) our model correctly classify survivors (True Positives) </p>"
   ]
  },
  {
   "cell_type": "code",
   "execution_count": null,
   "metadata": {},
   "outputs": [],
   "source": [
    "def add_to_f1_list(model,model_name,X_train,y_train,f1_list): #Append to a list the f1 score of a selected model\n",
    "    preds = cross_val_predict(model,X_train,y_train,cv=10,method = 'predict')\n",
    "    f1_list.append((model_name,f1_score(y_train,preds)))\n"
   ]
  },
  {
   "cell_type": "code",
   "execution_count": null,
   "metadata": {},
   "outputs": [],
   "source": [
    "auc_list = []\n",
    "f1_list = []\n",
    "\n",
    "lin_svc_y_scores = cross_val_predict(lin_svc_cls,X_train,y_train,cv=10,method = 'decision_function')\n",
    "lin_svc_fpr,lin_svc_tpr,lin_svc_thresholds = roc_curve(y_train,lin_svc_y_scores)\n",
    "auc_list.append(('LinearSVC',roc_auc_score(y_train,lin_svc_y_scores)))\n",
    "\n",
    "add_to_f1_list(lin_svc_cls,'LinearSVC',X_train,y_train,f1_list)\n",
    "\n",
    "svc_y_scores = cross_val_predict(svc_cls,X_train,y_train,cv = 10 , method = 'decision_function')\n",
    "svc_fpr,svc_tpr,svc_thresholds = roc_curve(y_train,svc_y_scores)\n",
    "auc_list.append(('SVC',roc_auc_score(y_train,svc_y_scores)))\n",
    "\n",
    "\n",
    "add_to_f1_list(svc_cls,'SVC',X_train,y_train,f1_list)\n",
    "\n",
    "sgd_y_scores = cross_val_predict(sgd_cls,X_train,y_train,cv = 10,method = 'decision_function')\n",
    "sgd_fpr,sgd_tpr,sgd_thresholds = roc_curve(y_train,sgd_y_scores)\n",
    "auc_list.append(('SGD',roc_auc_score(y_train,sgd_y_scores)))\n",
    "\n",
    "\n",
    "add_to_f1_list(sgd_cls,'SGD',X_train,y_train,f1_list)\n",
    "\n",
    "tree_y_probas = cross_val_predict(tree_cls,X_train,y_train,cv=10,method = 'predict_proba')\n",
    "tree_y_scores = tree_y_probas[:,1]\n",
    "tree_fpr,tree_tpr,tree_thresholds = roc_curve(y_train,tree_y_scores)\n",
    "auc_list.append(('Decision Tree',roc_auc_score(y_train,tree_y_scores)))\n",
    "\n",
    "add_to_f1_list(tree_cls,'Decision Tree',X_train,y_train,f1_list)\n",
    "\n",
    "forest_y_probas = cross_val_predict(forest_cls,X_train,y_train,cv = 10, method = 'predict_proba')\n",
    "forest_y_scores = forest_y_probas[:,1] #Using the probability of having a survivor as scores\n",
    "forest_fpr,forest_tpr,forest_thresholds = roc_curve(y_train,forest_y_scores)\n",
    "auc_list.append(('Random Forest',roc_auc_score(y_train,forest_y_scores)))\n",
    "\n",
    "add_to_f1_list(forest_cls,'Random Forest',X_train,y_train,f1_list)"
   ]
  },
  {
   "cell_type": "code",
   "execution_count": null,
   "metadata": {},
   "outputs": [
    {
     "data": {
      "text/plain": [
       "<matplotlib.legend.Legend at 0x24af0dd2610>"
      ]
     },
     "execution_count": 102,
     "metadata": {},
     "output_type": "execute_result"
    },
    {
     "data": {
      "image/png": "[encoded data removed]",
      "text/plain": [
       "<Figure size 300x300 with 1 Axes>"
      ]
     },
     "metadata": {},
     "output_type": "display_data"
    }
   ],
   "source": [
    "fig = plt.figure(figsize = (3,3))\n",
    "ax = fig.add_axes([0,0,1,1])\n",
    "ax.plot(lin_svc_fpr,lin_svc_tpr,label = 'LinearSVC')\n",
    "ax.plot(svc_fpr,svc_tpr,label = 'SVC')\n",
    "ax.plot(sgd_fpr,sgd_tpr,label = 'SGD')\n",
    "ax.plot(tree_fpr,tree_tpr,label = 'Decision Tree')\n",
    "ax.plot(forest_fpr,forest_tpr,label = 'Random Forest')\n",
    "ax.plot([0,1],[0,1],'k--')\n",
    "ax.set_xlabel('False Positive Rate')\n",
    "ax.set_ylabel('True Positive Rate')\n",
    "ax.set_title('ROC curve')\n",
    "ax.legend(loc = 'best')\n"
   ]
  },
  {
   "cell_type": "code",
   "execution_count": null,
   "metadata": {},
   "outputs": [
    {
     "data": {
      "text/html": [
       "<div>\n",
       "<style scoped>\n",
       "    .dataframe tbody tr th:only-of-type {\n",
       "        vertical-align: middle;\n",
       "    }\n",
       "\n",
       "    .dataframe tbody tr th {\n",
       "        vertical-align: top;\n",
       "    }\n",
       "\n",
       "    .dataframe thead th {\n",
       "        text-align: right;\n",
       "    }\n",
       "</style>\n",
       "<table border=\"1\" class=\"dataframe\">\n",
       "  <thead>\n",
       "    <tr style=\"text-align: right;\">\n",
       "      <th></th>\n",
       "      <th>AUC score</th>\n",
       "    </tr>\n",
       "    <tr>\n",
       "      <th>Model</th>\n",
       "      <th></th>\n",
       "    </tr>\n",
       "  </thead>\n",
       "  <tbody>\n",
       "    <tr>\n",
       "      <th>Random Forest</th>\n",
       "      <td>0.852638</td>\n",
       "    </tr>\n",
       "    <tr>\n",
       "      <th>Decision Tree</th>\n",
       "      <td>0.842618</td>\n",
       "    </tr>\n",
       "    <tr>\n",
       "      <th>SVC</th>\n",
       "      <td>0.839334</td>\n",
       "    </tr>\n",
       "    <tr>\n",
       "      <th>LinearSVC</th>\n",
       "      <td>0.812547</td>\n",
       "    </tr>\n",
       "    <tr>\n",
       "      <th>SGD</th>\n",
       "      <td>0.752229</td>\n",
       "    </tr>\n",
       "  </tbody>\n",
       "</table>\n",
       "</div>"
      ],
      "text/plain": [
       "               AUC score\n",
       "Model                   \n",
       "Random Forest   0.852638\n",
       "Decision Tree   0.842618\n",
       "SVC             0.839334\n",
       "LinearSVC       0.812547\n",
       "SGD             0.752229"
      ]
     },
     "execution_count": 103,
     "metadata": {},
     "output_type": "execute_result"
    }
   ],
   "source": [
    "auc_df = list_to_df(auc_list,'AUC score')\n",
    "auc_df.sort_values('AUC score',ascending = False)\n"
   ]
  },
  {
   "cell_type": "code",
   "execution_count": null,
   "metadata": {},
   "outputs": [
    {
     "data": {
      "text/html": [
       "<div>\n",
       "<style scoped>\n",
       "    .dataframe tbody tr th:only-of-type {\n",
       "        vertical-align: middle;\n",
       "    }\n",
       "\n",
       "    .dataframe tbody tr th {\n",
       "        vertical-align: top;\n",
       "    }\n",
       "\n",
       "    .dataframe thead th {\n",
       "        text-align: right;\n",
       "    }\n",
       "</style>\n",
       "<table border=\"1\" class=\"dataframe\">\n",
       "  <thead>\n",
       "    <tr style=\"text-align: right;\">\n",
       "      <th></th>\n",
       "      <th>F1 score</th>\n",
       "    </tr>\n",
       "    <tr>\n",
       "      <th>Model</th>\n",
       "      <th></th>\n",
       "    </tr>\n",
       "  </thead>\n",
       "  <tbody>\n",
       "    <tr>\n",
       "      <th>SVC</th>\n",
       "      <td>0.758190</td>\n",
       "    </tr>\n",
       "    <tr>\n",
       "      <th>Random Forest</th>\n",
       "      <td>0.750000</td>\n",
       "    </tr>\n",
       "    <tr>\n",
       "      <th>Decision Tree</th>\n",
       "      <td>0.733746</td>\n",
       "    </tr>\n",
       "    <tr>\n",
       "      <th>LinearSVC</th>\n",
       "      <td>0.708589</td>\n",
       "    </tr>\n",
       "    <tr>\n",
       "      <th>SGD</th>\n",
       "      <td>0.613251</td>\n",
       "    </tr>\n",
       "  </tbody>\n",
       "</table>\n",
       "</div>"
      ],
      "text/plain": [
       "               F1 score\n",
       "Model                  \n",
       "SVC            0.758190\n",
       "Random Forest  0.750000\n",
       "Decision Tree  0.733746\n",
       "LinearSVC      0.708589\n",
       "SGD            0.613251"
      ]
     },
     "execution_count": 104,
     "metadata": {},
     "output_type": "execute_result"
    }
   ],
   "source": [
    "f1_df = list_to_df(f1_list,'F1 score')\n",
    "f1_df.sort_values('F1 score',ascending = False)"
   ]
  },
  {
   "cell_type": "code",
   "execution_count": null,
   "metadata": {},
   "outputs": [
    {
     "data": {
      "text/html": [
       "<div>\n",
       "<style scoped>\n",
       "    .dataframe tbody tr th:only-of-type {\n",
       "        vertical-align: middle;\n",
       "    }\n",
       "\n",
       "    .dataframe tbody tr th {\n",
       "        vertical-align: top;\n",
       "    }\n",
       "\n",
       "    .dataframe thead th {\n",
       "        text-align: right;\n",
       "    }\n",
       "</style>\n",
       "<table border=\"1\" class=\"dataframe\">\n",
       "  <thead>\n",
       "    <tr style=\"text-align: right;\">\n",
       "      <th></th>\n",
       "      <th>Accuracy</th>\n",
       "      <th>AUC score</th>\n",
       "      <th>F1 score</th>\n",
       "    </tr>\n",
       "    <tr>\n",
       "      <th>Model</th>\n",
       "      <th></th>\n",
       "      <th></th>\n",
       "      <th></th>\n",
       "    </tr>\n",
       "  </thead>\n",
       "  <tbody>\n",
       "    <tr>\n",
       "      <th>SVC</th>\n",
       "      <td>0.825677</td>\n",
       "      <td>0.839334</td>\n",
       "      <td>0.758190</td>\n",
       "    </tr>\n",
       "    <tr>\n",
       "      <th>Random Forest</th>\n",
       "      <td>0.813317</td>\n",
       "      <td>0.852638</td>\n",
       "      <td>0.750000</td>\n",
       "    </tr>\n",
       "    <tr>\n",
       "      <th>Decision Tree</th>\n",
       "      <td>0.806512</td>\n",
       "      <td>0.842618</td>\n",
       "      <td>0.733746</td>\n",
       "    </tr>\n",
       "    <tr>\n",
       "      <th>LinearSVC</th>\n",
       "      <td>0.786249</td>\n",
       "      <td>0.812547</td>\n",
       "      <td>0.708589</td>\n",
       "    </tr>\n",
       "    <tr>\n",
       "      <th>SGD</th>\n",
       "      <td>0.717735</td>\n",
       "      <td>0.752229</td>\n",
       "      <td>0.613251</td>\n",
       "    </tr>\n",
       "  </tbody>\n",
       "</table>\n",
       "</div>"
      ],
      "text/plain": [
       "               Accuracy  AUC score  F1 score\n",
       "Model                                       \n",
       "SVC            0.825677   0.839334  0.758190\n",
       "Random Forest  0.813317   0.852638  0.750000\n",
       "Decision Tree  0.806512   0.842618  0.733746\n",
       "LinearSVC      0.786249   0.812547  0.708589\n",
       "SGD            0.717735   0.752229  0.613251"
      ]
     },
     "execution_count": 105,
     "metadata": {},
     "output_type": "execute_result"
    }
   ],
   "source": [
    "metrics = pd.concat((accuracy,auc_df,f1_df),axis = 1)\n",
    "metrics.sort_values('F1 score',ascending = False)"
   ]
  },
  {
   "cell_type": "markdown",
   "metadata": {},
   "source": [
    "The difference between AUC scores are not so large. Once that both True positives and True Negatives are important, we can choose the model with high Accuracy and F1 score and still has a high AUC score."
   ]
  },
  {
   "cell_type": "markdown",
   "metadata": {},
   "source": [
    "## Fine-Tune the Model"
   ]
  },
  {
   "cell_type": "code",
   "execution_count": null,
   "metadata": {},
   "outputs": [],
   "source": [
    "params = [{'kernel':['poly'], 'degree':[3,10],'C':[0.1,1,5,10,100]},\n",
    "          {'kernel':['rbf'],'C':[0.1,1,5,10,100],'gamma':[0.001,0.1,10]}]"
   ]
  },
  {
   "cell_type": "code",
   "execution_count": null,
   "metadata": {},
   "outputs": [
    {
     "data": {
      "text/html": [
       "<style>#sk-container-id-1 {color: black;background-color: white;}#sk-container-id-1 pre{padding: 0;}#sk-container-id-1 div.sk-toggleable {background-color: white;}#sk-container-id-1 label.sk-toggleable__label {cursor: pointer;display: block;width: 100%;margin-bottom: 0;padding: 0.3em;box-sizing: border-box;text-align: center;}#sk-container-id-1 label.sk-toggleable__label-arrow:before {content: \"▸\";float: left;margin-right: 0.25em;color: #696969;}#sk-container-id-1 label.sk-toggleable__label-arrow:hover:before {color: black;}#sk-container-id-1 div.sk-estimator:hover label.sk-toggleable__label-arrow:before {color: black;}#sk-container-id-1 div.sk-toggleable__content {max-height: 0;max-width: 0;overflow: hidden;text-align: left;background-color: #f0f8ff;}#sk-container-id-1 div.sk-toggleable__content pre {margin: 0.2em;color: black;border-radius: 0.25em;background-color: #f0f8ff;}#sk-container-id-1 input.sk-toggleable__control:checked~div.sk-toggleable__content {max-height: 200px;max-width: 100%;overflow: auto;}#sk-container-id-1 input.sk-toggleable__control:checked~label.sk-toggleable__label-arrow:before {content: \"▾\";}#sk-container-id-1 div.sk-estimator input.sk-toggleable__control:checked~label.sk-toggleable__label {background-color: #d4ebff;}#sk-container-id-1 div.sk-label input.sk-toggleable__control:checked~label.sk-toggleable__label {background-color: #d4ebff;}#sk-container-id-1 input.sk-hidden--visually {border: 0;clip: rect(1px 1px 1px 1px);clip: rect(1px, 1px, 1px, 1px);height: 1px;margin: -1px;overflow: hidden;padding: 0;position: absolute;width: 1px;}#sk-container-id-1 div.sk-estimator {font-family: monospace;background-color: #f0f8ff;border: 1px dotted black;border-radius: 0.25em;box-sizing: border-box;margin-bottom: 0.5em;}#sk-container-id-1 div.sk-estimator:hover {background-color: #d4ebff;}#sk-container-id-1 div.sk-parallel-item::after {content: \"\";width: 100%;border-bottom: 1px solid gray;flex-grow: 1;}#sk-container-id-1 div.sk-label:hover label.sk-toggleable__label {background-color: #d4ebff;}#sk-container-id-1 div.sk-serial::before {content: \"\";position: absolute;border-left: 1px solid gray;box-sizing: border-box;top: 0;bottom: 0;left: 50%;z-index: 0;}#sk-container-id-1 div.sk-serial {display: flex;flex-direction: column;align-items: center;background-color: white;padding-right: 0.2em;padding-left: 0.2em;position: relative;}#sk-container-id-1 div.sk-item {position: relative;z-index: 1;}#sk-container-id-1 div.sk-parallel {display: flex;align-items: stretch;justify-content: center;background-color: white;position: relative;}#sk-container-id-1 div.sk-item::before, #sk-container-id-1 div.sk-parallel-item::before {content: \"\";position: absolute;border-left: 1px solid gray;box-sizing: border-box;top: 0;bottom: 0;left: 50%;z-index: -1;}#sk-container-id-1 div.sk-parallel-item {display: flex;flex-direction: column;z-index: 1;position: relative;background-color: white;}#sk-container-id-1 div.sk-parallel-item:first-child::after {align-self: flex-end;width: 50%;}#sk-container-id-1 div.sk-parallel-item:last-child::after {align-self: flex-start;width: 50%;}#sk-container-id-1 div.sk-parallel-item:only-child::after {width: 0;}#sk-container-id-1 div.sk-dashed-wrapped {border: 1px dashed gray;margin: 0 0.4em 0.5em 0.4em;box-sizing: border-box;padding-bottom: 0.4em;background-color: white;}#sk-container-id-1 div.sk-label label {font-family: monospace;font-weight: bold;display: inline-block;line-height: 1.2em;}#sk-container-id-1 div.sk-label-container {text-align: center;}#sk-container-id-1 div.sk-container {/* jupyter's `normalize.less` sets `[hidden] { display: none; }` but bootstrap.min.css set `[hidden] { display: none !important; }` so we also need the `!important` here to be able to override the default hidden behavior on the sphinx rendered scikit-learn.org. See: https://github.com/scikit-learn/scikit-learn/issues/21755 */display: inline-block !important;position: relative;}#sk-container-id-1 div.sk-text-repr-fallback {display: none;}</style><div id=\"sk-container-id-1\" class=\"sk-top-container\"><div class=\"sk-text-repr-fallback\"><pre>GridSearchCV(cv=5, estimator=SVC(random_state=42),\n",
       "             param_grid=[{&#x27;C&#x27;: [0.1, 1, 5, 10, 100], &#x27;degree&#x27;: [3, 10],\n",
       "                          &#x27;kernel&#x27;: [&#x27;poly&#x27;]},\n",
       "                         {&#x27;C&#x27;: [0.1, 1, 5, 10, 100], &#x27;gamma&#x27;: [0.001, 0.1, 10],\n",
       "                          &#x27;kernel&#x27;: [&#x27;rbf&#x27;]}],\n",
       "             return_train_score=True, scoring=&#x27;accuracy&#x27;)</pre><b>In a Jupyter environment, please rerun this cell to show the HTML representation or trust the notebook. <br />On GitHub, the HTML representation is unable to render, please try loading this page with nbviewer.org.</b></div><div class=\"sk-container\" hidden><div class=\"sk-item sk-dashed-wrapped\"><div class=\"sk-label-container\"><div class=\"sk-label sk-toggleable\"><input class=\"sk-toggleable__control sk-hidden--visually\" id=\"sk-estimator-id-1\" type=\"checkbox\" ><label for=\"sk-estimator-id-1\" class=\"sk-toggleable__label sk-toggleable__label-arrow\">GridSearchCV</label><div class=\"sk-toggleable__content\"><pre>GridSearchCV(cv=5, estimator=SVC(random_state=42),\n",
       "             param_grid=[{&#x27;C&#x27;: [0.1, 1, 5, 10, 100], &#x27;degree&#x27;: [3, 10],\n",
       "                          &#x27;kernel&#x27;: [&#x27;poly&#x27;]},\n",
       "                         {&#x27;C&#x27;: [0.1, 1, 5, 10, 100], &#x27;gamma&#x27;: [0.001, 0.1, 10],\n",
       "                          &#x27;kernel&#x27;: [&#x27;rbf&#x27;]}],\n",
       "             return_train_score=True, scoring=&#x27;accuracy&#x27;)</pre></div></div></div><div class=\"sk-parallel\"><div class=\"sk-parallel-item\"><div class=\"sk-item\"><div class=\"sk-label-container\"><div class=\"sk-label sk-toggleable\"><input class=\"sk-toggleable__control sk-hidden--visually\" id=\"sk-estimator-id-2\" type=\"checkbox\" ><label for=\"sk-estimator-id-2\" class=\"sk-toggleable__label sk-toggleable__label-arrow\">estimator: SVC</label><div class=\"sk-toggleable__content\"><pre>SVC(random_state=42)</pre></div></div></div><div class=\"sk-serial\"><div class=\"sk-item\"><div class=\"sk-estimator sk-toggleable\"><input class=\"sk-toggleable__control sk-hidden--visually\" id=\"sk-estimator-id-3\" type=\"checkbox\" ><label for=\"sk-estimator-id-3\" class=\"sk-toggleable__label sk-toggleable__label-arrow\">SVC</label><div class=\"sk-toggleable__content\"><pre>SVC(random_state=42)</pre></div></div></div></div></div></div></div></div></div></div>"
      ],
      "text/plain": [
       "GridSearchCV(cv=5, estimator=SVC(random_state=42),\n",
       "             param_grid=[{'C': [0.1, 1, 5, 10, 100], 'degree': [3, 10],\n",
       "                          'kernel': ['poly']},\n",
       "                         {'C': [0.1, 1, 5, 10, 100], 'gamma': [0.001, 0.1, 10],\n",
       "                          'kernel': ['rbf']}],\n",
       "             return_train_score=True, scoring='accuracy')"
      ]
     },
     "execution_count": 107,
     "metadata": {},
     "output_type": "execute_result"
    }
   ],
   "source": [
    "grid_cv = GridSearchCV(svc_cls,params,scoring = 'accuracy',cv = 5,return_train_score=True,refit = True)\n",
    "grid_cv.fit(X_train,y_train)\n"
   ]
  },
  {
   "cell_type": "code",
   "execution_count": null,
   "metadata": {},
   "outputs": [
    {
     "name": "stdout",
     "output_type": "stream",
     "text": [
      "The best parameters found for SVC was {'C': 10, 'gamma': 0.1, 'kernel': 'rbf'} and the best score achieved was 0.8279565796991049 \n"
     ]
    }
   ],
   "source": [
    "print(\"The best parameters found for SVC was {} and the best score achieved was {} \".format(grid_cv.best_params_,grid_cv.best_score_))"
   ]
  },
  {
   "cell_type": "code",
   "execution_count": null,
   "metadata": {},
   "outputs": [
    {
     "data": {
      "text/html": [
       "<style>#sk-container-id-2 {color: black;background-color: white;}#sk-container-id-2 pre{padding: 0;}#sk-container-id-2 div.sk-toggleable {background-color: white;}#sk-container-id-2 label.sk-toggleable__label {cursor: pointer;display: block;width: 100%;margin-bottom: 0;padding: 0.3em;box-sizing: border-box;text-align: center;}#sk-container-id-2 label.sk-toggleable__label-arrow:before {content: \"▸\";float: left;margin-right: 0.25em;color: #696969;}#sk-container-id-2 label.sk-toggleable__label-arrow:hover:before {color: black;}#sk-container-id-2 div.sk-estimator:hover label.sk-toggleable__label-arrow:before {color: black;}#sk-container-id-2 div.sk-toggleable__content {max-height: 0;max-width: 0;overflow: hidden;text-align: left;background-color: #f0f8ff;}#sk-container-id-2 div.sk-toggleable__content pre {margin: 0.2em;color: black;border-radius: 0.25em;background-color: #f0f8ff;}#sk-container-id-2 input.sk-toggleable__control:checked~div.sk-toggleable__content {max-height: 200px;max-width: 100%;overflow: auto;}#sk-container-id-2 input.sk-toggleable__control:checked~label.sk-toggleable__label-arrow:before {content: \"▾\";}#sk-container-id-2 div.sk-estimator input.sk-toggleable__control:checked~label.sk-toggleable__label {background-color: #d4ebff;}#sk-container-id-2 div.sk-label input.sk-toggleable__control:checked~label.sk-toggleable__label {background-color: #d4ebff;}#sk-container-id-2 input.sk-hidden--visually {border: 0;clip: rect(1px 1px 1px 1px);clip: rect(1px, 1px, 1px, 1px);height: 1px;margin: -1px;overflow: hidden;padding: 0;position: absolute;width: 1px;}#sk-container-id-2 div.sk-estimator {font-family: monospace;background-color: #f0f8ff;border: 1px dotted black;border-radius: 0.25em;box-sizing: border-box;margin-bottom: 0.5em;}#sk-container-id-2 div.sk-estimator:hover {background-color: #d4ebff;}#sk-container-id-2 div.sk-parallel-item::after {content: \"\";width: 100%;border-bottom: 1px solid gray;flex-grow: 1;}#sk-container-id-2 div.sk-label:hover label.sk-toggleable__label {background-color: #d4ebff;}#sk-container-id-2 div.sk-serial::before {content: \"\";position: absolute;border-left: 1px solid gray;box-sizing: border-box;top: 0;bottom: 0;left: 50%;z-index: 0;}#sk-container-id-2 div.sk-serial {display: flex;flex-direction: column;align-items: center;background-color: white;padding-right: 0.2em;padding-left: 0.2em;position: relative;}#sk-container-id-2 div.sk-item {position: relative;z-index: 1;}#sk-container-id-2 div.sk-parallel {display: flex;align-items: stretch;justify-content: center;background-color: white;position: relative;}#sk-container-id-2 div.sk-item::before, #sk-container-id-2 div.sk-parallel-item::before {content: \"\";position: absolute;border-left: 1px solid gray;box-sizing: border-box;top: 0;bottom: 0;left: 50%;z-index: -1;}#sk-container-id-2 div.sk-parallel-item {display: flex;flex-direction: column;z-index: 1;position: relative;background-color: white;}#sk-container-id-2 div.sk-parallel-item:first-child::after {align-self: flex-end;width: 50%;}#sk-container-id-2 div.sk-parallel-item:last-child::after {align-self: flex-start;width: 50%;}#sk-container-id-2 div.sk-parallel-item:only-child::after {width: 0;}#sk-container-id-2 div.sk-dashed-wrapped {border: 1px dashed gray;margin: 0 0.4em 0.5em 0.4em;box-sizing: border-box;padding-bottom: 0.4em;background-color: white;}#sk-container-id-2 div.sk-label label {font-family: monospace;font-weight: bold;display: inline-block;line-height: 1.2em;}#sk-container-id-2 div.sk-label-container {text-align: center;}#sk-container-id-2 div.sk-container {/* jupyter's `normalize.less` sets `[hidden] { display: none; }` but bootstrap.min.css set `[hidden] { display: none !important; }` so we also need the `!important` here to be able to override the default hidden behavior on the sphinx rendered scikit-learn.org. See: https://github.com/scikit-learn/scikit-learn/issues/21755 */display: inline-block !important;position: relative;}#sk-container-id-2 div.sk-text-repr-fallback {display: none;}</style><div id=\"sk-container-id-2\" class=\"sk-top-container\"><div class=\"sk-text-repr-fallback\"><pre>SVC(C=10, gamma=0.1, random_state=42)</pre><b>In a Jupyter environment, please rerun this cell to show the HTML representation or trust the notebook. <br />On GitHub, the HTML representation is unable to render, please try loading this page with nbviewer.org.</b></div><div class=\"sk-container\" hidden><div class=\"sk-item\"><div class=\"sk-estimator sk-toggleable\"><input class=\"sk-toggleable__control sk-hidden--visually\" id=\"sk-estimator-id-4\" type=\"checkbox\" checked><label for=\"sk-estimator-id-4\" class=\"sk-toggleable__label sk-toggleable__label-arrow\">SVC</label><div class=\"sk-toggleable__content\"><pre>SVC(C=10, gamma=0.1, random_state=42)</pre></div></div></div></div></div>"
      ],
      "text/plain": [
       "SVC(C=10, gamma=0.1, random_state=42)"
      ]
     },
     "execution_count": 109,
     "metadata": {},
     "output_type": "execute_result"
    }
   ],
   "source": [
    "final_svc_model = SVC(C = 10,gamma = 0.1, kernel = 'rbf',random_state=42)\n",
    "final_svc_model.fit(X_train,y_train)"
   ]
  },
  {
   "cell_type": "markdown",
   "metadata": {},
   "source": [
    "### Final Pipeline"
   ]
  },
  {
   "cell_type": "code",
   "execution_count": null,
   "metadata": {},
   "outputs": [],
   "source": [
    "attributes = ['Survived', 'Pclass', 'Name', 'Sex', 'Age', 'SibSp', 'Parch', 'Ticket',\n",
    "       'Fare', 'Cabin', 'Embarked']"
   ]
  },
  {
   "cell_type": "code",
   "execution_count": null,
   "metadata": {},
   "outputs": [],
   "source": [
    "full_pipeline = Pipeline([\n",
    "    ('clean_data',DataCleaner()),\n",
    "    ('cat_encoder',CategoricalAttributesEncoder()),\n",
    "    ('num_transformer',NumericalAttributesTransformer()),\n",
    "])"
   ]
  },
  {
   "cell_type": "markdown",
   "metadata": {},
   "source": [
    "## Predicting the Test Set"
   ]
  },
  {
   "cell_type": "code",
   "execution_count": null,
   "metadata": {},
   "outputs": [
    {
     "data": {
      "text/html": [
       "<div>\n",
       "<style scoped>\n",
       "    .dataframe tbody tr th:only-of-type {\n",
       "        vertical-align: middle;\n",
       "    }\n",
       "\n",
       "    .dataframe tbody tr th {\n",
       "        vertical-align: top;\n",
       "    }\n",
       "\n",
       "    .dataframe thead th {\n",
       "        text-align: right;\n",
       "    }\n",
       "</style>\n",
       "<table border=\"1\" class=\"dataframe\">\n",
       "  <thead>\n",
       "    <tr style=\"text-align: right;\">\n",
       "      <th></th>\n",
       "      <th>Pclass</th>\n",
       "      <th>Sex</th>\n",
       "      <th>Age</th>\n",
       "      <th>SibSp</th>\n",
       "      <th>Parch</th>\n",
       "      <th>Ticket</th>\n",
       "      <th>Fare</th>\n",
       "      <th>Cabin</th>\n",
       "      <th>Embarked</th>\n",
       "    </tr>\n",
       "    <tr>\n",
       "      <th>PassengerId</th>\n",
       "      <th></th>\n",
       "      <th></th>\n",
       "      <th></th>\n",
       "      <th></th>\n",
       "      <th></th>\n",
       "      <th></th>\n",
       "      <th></th>\n",
       "      <th></th>\n",
       "      <th></th>\n",
       "    </tr>\n",
       "  </thead>\n",
       "  <tbody>\n",
       "    <tr>\n",
       "      <th>892</th>\n",
       "      <td>3</td>\n",
       "      <td>male</td>\n",
       "      <td>34.5</td>\n",
       "      <td>0</td>\n",
       "      <td>0</td>\n",
       "      <td>330911</td>\n",
       "      <td>7.8292</td>\n",
       "      <td>NaN</td>\n",
       "      <td>Q</td>\n",
       "    </tr>\n",
       "    <tr>\n",
       "      <th>893</th>\n",
       "      <td>3</td>\n",
       "      <td>female</td>\n",
       "      <td>47.0</td>\n",
       "      <td>1</td>\n",
       "      <td>0</td>\n",
       "      <td>363272</td>\n",
       "      <td>7.0000</td>\n",
       "      <td>NaN</td>\n",
       "      <td>S</td>\n",
       "    </tr>\n",
       "    <tr>\n",
       "      <th>894</th>\n",
       "      <td>2</td>\n",
       "      <td>male</td>\n",
       "      <td>62.0</td>\n",
       "      <td>0</td>\n",
       "      <td>0</td>\n",
       "      <td>240276</td>\n",
       "      <td>9.6875</td>\n",
       "      <td>NaN</td>\n",
       "      <td>Q</td>\n",
       "    </tr>\n",
       "    <tr>\n",
       "      <th>895</th>\n",
       "      <td>3</td>\n",
       "      <td>male</td>\n",
       "      <td>27.0</td>\n",
       "      <td>0</td>\n",
       "      <td>0</td>\n",
       "      <td>315154</td>\n",
       "      <td>8.6625</td>\n",
       "      <td>NaN</td>\n",
       "      <td>S</td>\n",
       "    </tr>\n",
       "    <tr>\n",
       "      <th>896</th>\n",
       "      <td>3</td>\n",
       "      <td>female</td>\n",
       "      <td>22.0</td>\n",
       "      <td>1</td>\n",
       "      <td>1</td>\n",
       "      <td>3101298</td>\n",
       "      <td>12.2875</td>\n",
       "      <td>NaN</td>\n",
       "      <td>S</td>\n",
       "    </tr>\n",
       "  </tbody>\n",
       "</table>\n",
       "</div>"
      ],
      "text/plain": [
       "             Pclass     Sex   Age  SibSp  Parch   Ticket     Fare Cabin  \\\n",
       "PassengerId                                                               \n",
       "892               3    male  34.5      0      0   330911   7.8292   NaN   \n",
       "893               3  female  47.0      1      0   363272   7.0000   NaN   \n",
       "894               2    male  62.0      0      0   240276   9.6875   NaN   \n",
       "895               3    male  27.0      0      0   315154   8.6625   NaN   \n",
       "896               3  female  22.0      1      1  3101298  12.2875   NaN   \n",
       "\n",
       "            Embarked  \n",
       "PassengerId           \n",
       "892                Q  \n",
       "893                S  \n",
       "894                Q  \n",
       "895                S  \n",
       "896                S  "
      ]
     },
     "execution_count": 112,
     "metadata": {},
     "output_type": "execute_result"
    }
   ],
   "source": [
    "# Importing the test set\n",
    "X_test = pd.read_csv('test.csv',index_col = 'PassengerId')\n",
    "X_test.drop('Name',axis = 1,inplace = True)\n",
    "X_test.head()"
   ]
  },
  {
   "cell_type": "code",
   "execution_count": null,
   "metadata": {},
   "outputs": [
    {
     "data": {
      "text/html": [
       "<div>\n",
       "<style scoped>\n",
       "    .dataframe tbody tr th:only-of-type {\n",
       "        vertical-align: middle;\n",
       "    }\n",
       "\n",
       "    .dataframe tbody tr th {\n",
       "        vertical-align: top;\n",
       "    }\n",
       "\n",
       "    .dataframe thead th {\n",
       "        text-align: right;\n",
       "    }\n",
       "</style>\n",
       "<table border=\"1\" class=\"dataframe\">\n",
       "  <thead>\n",
       "    <tr style=\"text-align: right;\">\n",
       "      <th></th>\n",
       "      <th>Pclass</th>\n",
       "      <th>Sex</th>\n",
       "      <th>Age</th>\n",
       "      <th>SibSp</th>\n",
       "      <th>Parch</th>\n",
       "      <th>Fare</th>\n",
       "      <th>C</th>\n",
       "      <th>Q</th>\n",
       "      <th>S</th>\n",
       "    </tr>\n",
       "    <tr>\n",
       "      <th>PassengerId</th>\n",
       "      <th></th>\n",
       "      <th></th>\n",
       "      <th></th>\n",
       "      <th></th>\n",
       "      <th></th>\n",
       "      <th></th>\n",
       "      <th></th>\n",
       "      <th></th>\n",
       "      <th></th>\n",
       "    </tr>\n",
       "  </thead>\n",
       "  <tbody>\n",
       "    <tr>\n",
       "      <th>892</th>\n",
       "      <td>3</td>\n",
       "      <td>0</td>\n",
       "      <td>0.334993</td>\n",
       "      <td>0</td>\n",
       "      <td>0</td>\n",
       "      <td>-0.497811</td>\n",
       "      <td>0.0</td>\n",
       "      <td>1.0</td>\n",
       "      <td>0.0</td>\n",
       "    </tr>\n",
       "    <tr>\n",
       "      <th>893</th>\n",
       "      <td>3</td>\n",
       "      <td>1</td>\n",
       "      <td>1.325530</td>\n",
       "      <td>1</td>\n",
       "      <td>0</td>\n",
       "      <td>-0.512660</td>\n",
       "      <td>0.0</td>\n",
       "      <td>0.0</td>\n",
       "      <td>1.0</td>\n",
       "    </tr>\n",
       "    <tr>\n",
       "      <th>894</th>\n",
       "      <td>2</td>\n",
       "      <td>0</td>\n",
       "      <td>2.514175</td>\n",
       "      <td>0</td>\n",
       "      <td>0</td>\n",
       "      <td>-0.464532</td>\n",
       "      <td>0.0</td>\n",
       "      <td>1.0</td>\n",
       "      <td>0.0</td>\n",
       "    </tr>\n",
       "    <tr>\n",
       "      <th>895</th>\n",
       "      <td>3</td>\n",
       "      <td>0</td>\n",
       "      <td>-0.259330</td>\n",
       "      <td>0</td>\n",
       "      <td>0</td>\n",
       "      <td>-0.482888</td>\n",
       "      <td>0.0</td>\n",
       "      <td>0.0</td>\n",
       "      <td>1.0</td>\n",
       "    </tr>\n",
       "    <tr>\n",
       "      <th>896</th>\n",
       "      <td>3</td>\n",
       "      <td>1</td>\n",
       "      <td>-0.655545</td>\n",
       "      <td>1</td>\n",
       "      <td>1</td>\n",
       "      <td>-0.417971</td>\n",
       "      <td>0.0</td>\n",
       "      <td>0.0</td>\n",
       "      <td>1.0</td>\n",
       "    </tr>\n",
       "    <tr>\n",
       "      <th>...</th>\n",
       "      <td>...</td>\n",
       "      <td>...</td>\n",
       "      <td>...</td>\n",
       "      <td>...</td>\n",
       "      <td>...</td>\n",
       "      <td>...</td>\n",
       "      <td>...</td>\n",
       "      <td>...</td>\n",
       "      <td>...</td>\n",
       "    </tr>\n",
       "    <tr>\n",
       "      <th>1305</th>\n",
       "      <td>3</td>\n",
       "      <td>0</td>\n",
       "      <td>0.000000</td>\n",
       "      <td>0</td>\n",
       "      <td>0</td>\n",
       "      <td>-0.493856</td>\n",
       "      <td>0.0</td>\n",
       "      <td>0.0</td>\n",
       "      <td>1.0</td>\n",
       "    </tr>\n",
       "    <tr>\n",
       "      <th>1306</th>\n",
       "      <td>1</td>\n",
       "      <td>1</td>\n",
       "      <td>0.691586</td>\n",
       "      <td>0</td>\n",
       "      <td>0</td>\n",
       "      <td>1.312180</td>\n",
       "      <td>1.0</td>\n",
       "      <td>0.0</td>\n",
       "      <td>0.0</td>\n",
       "    </tr>\n",
       "    <tr>\n",
       "      <th>1307</th>\n",
       "      <td>3</td>\n",
       "      <td>0</td>\n",
       "      <td>0.651965</td>\n",
       "      <td>0</td>\n",
       "      <td>0</td>\n",
       "      <td>-0.508183</td>\n",
       "      <td>0.0</td>\n",
       "      <td>0.0</td>\n",
       "      <td>1.0</td>\n",
       "    </tr>\n",
       "    <tr>\n",
       "      <th>1308</th>\n",
       "      <td>3</td>\n",
       "      <td>0</td>\n",
       "      <td>0.000000</td>\n",
       "      <td>0</td>\n",
       "      <td>0</td>\n",
       "      <td>-0.493856</td>\n",
       "      <td>0.0</td>\n",
       "      <td>0.0</td>\n",
       "      <td>1.0</td>\n",
       "    </tr>\n",
       "    <tr>\n",
       "      <th>1309</th>\n",
       "      <td>3</td>\n",
       "      <td>0</td>\n",
       "      <td>0.000000</td>\n",
       "      <td>1</td>\n",
       "      <td>1</td>\n",
       "      <td>-0.237621</td>\n",
       "      <td>1.0</td>\n",
       "      <td>0.0</td>\n",
       "      <td>0.0</td>\n",
       "    </tr>\n",
       "  </tbody>\n",
       "</table>\n",
       "<p>418 rows × 9 columns</p>\n",
       "</div>"
      ],
      "text/plain": [
       "             Pclass  Sex       Age  SibSp  Parch      Fare    C    Q    S\n",
       "PassengerId                                                              \n",
       "892               3    0  0.334993      0      0 -0.497811  0.0  1.0  0.0\n",
       "893               3    1  1.325530      1      0 -0.512660  0.0  0.0  1.0\n",
       "894               2    0  2.514175      0      0 -0.464532  0.0  1.0  0.0\n",
       "895               3    0 -0.259330      0      0 -0.482888  0.0  0.0  1.0\n",
       "896               3    1 -0.655545      1      1 -0.417971  0.0  0.0  1.0\n",
       "...             ...  ...       ...    ...    ...       ...  ...  ...  ...\n",
       "1305              3    0  0.000000      0      0 -0.493856  0.0  0.0  1.0\n",
       "1306              1    1  0.691586      0      0  1.312180  1.0  0.0  0.0\n",
       "1307              3    0  0.651965      0      0 -0.508183  0.0  0.0  1.0\n",
       "1308              3    0  0.000000      0      0 -0.493856  0.0  0.0  1.0\n",
       "1309              3    0  0.000000      1      1 -0.237621  1.0  0.0  0.0\n",
       "\n",
       "[418 rows x 9 columns]"
      ]
     },
     "execution_count": 113,
     "metadata": {},
     "output_type": "execute_result"
    }
   ],
   "source": [
    "# Applying the pipeline on the test set\n",
    "full_pipeline.transform(X_test)"
   ]
  },
  {
   "cell_type": "code",
   "execution_count": null,
   "metadata": {},
   "outputs": [
    {
     "name": "stdout",
     "output_type": "stream",
     "text": [
      "<class 'pandas.core.frame.DataFrame'>\n",
      "Index: 418 entries, 892 to 1309\n",
      "Data columns (total 9 columns):\n",
      " #   Column  Non-Null Count  Dtype  \n",
      "---  ------  --------------  -----  \n",
      " 0   Pclass  418 non-null    int64  \n",
      " 1   Sex     418 non-null    int64  \n",
      " 2   Age     418 non-null    float64\n",
      " 3   SibSp   418 non-null    int64  \n",
      " 4   Parch   418 non-null    int64  \n",
      " 5   Fare    417 non-null    float64\n",
      " 6   C       418 non-null    float64\n",
      " 7   Q       418 non-null    float64\n",
      " 8   S       418 non-null    float64\n",
      "dtypes: float64(5), int64(4)\n",
      "memory usage: 32.7 KB\n"
     ]
    }
   ],
   "source": [
    "X_test.info()"
   ]
  },
  {
   "cell_type": "markdown",
   "metadata": {},
   "source": [
    "The 'Fare' attribute has a missing value. We could drop the row with it, but as the titanic challenge requires to predict 418 values, we going to fill this NaN value with the mean of the column."
   ]
  },
  {
   "cell_type": "code",
   "execution_count": null,
   "metadata": {},
   "outputs": [],
   "source": [
    "fare_mean = X_test['Fare'].mean()\n",
    "X_test['Fare'].fillna(value = fare_mean,inplace = True)"
   ]
  },
  {
   "cell_type": "code",
   "execution_count": null,
   "metadata": {},
   "outputs": [],
   "source": [
    "# Making predictions on the test set with the best hyperparameters \n",
    "svc_cls = SVC(C = 10, gamma = 0.1, kernel = 'rbf')\n",
    "svc_cls.fit(X_train,y_train)\n",
    "test_preds = svc_cls.predict(X_test)"
   ]
  },
  {
   "cell_type": "code",
   "execution_count": null,
   "metadata": {},
   "outputs": [
    {
     "data": {
      "text/html": [
       "<div>\n",
       "<style scoped>\n",
       "    .dataframe tbody tr th:only-of-type {\n",
       "        vertical-align: middle;\n",
       "    }\n",
       "\n",
       "    .dataframe tbody tr th {\n",
       "        vertical-align: top;\n",
       "    }\n",
       "\n",
       "    .dataframe thead th {\n",
       "        text-align: right;\n",
       "    }\n",
       "</style>\n",
       "<table border=\"1\" class=\"dataframe\">\n",
       "  <thead>\n",
       "    <tr style=\"text-align: right;\">\n",
       "      <th></th>\n",
       "      <th>PassengerId</th>\n",
       "      <th>Survived</th>\n",
       "    </tr>\n",
       "  </thead>\n",
       "  <tbody>\n",
       "    <tr>\n",
       "      <th>0</th>\n",
       "      <td>892</td>\n",
       "      <td>0</td>\n",
       "    </tr>\n",
       "    <tr>\n",
       "      <th>1</th>\n",
       "      <td>893</td>\n",
       "      <td>0</td>\n",
       "    </tr>\n",
       "    <tr>\n",
       "      <th>2</th>\n",
       "      <td>894</td>\n",
       "      <td>0</td>\n",
       "    </tr>\n",
       "    <tr>\n",
       "      <th>3</th>\n",
       "      <td>895</td>\n",
       "      <td>0</td>\n",
       "    </tr>\n",
       "    <tr>\n",
       "      <th>4</th>\n",
       "      <td>896</td>\n",
       "      <td>0</td>\n",
       "    </tr>\n",
       "    <tr>\n",
       "      <th>...</th>\n",
       "      <td>...</td>\n",
       "      <td>...</td>\n",
       "    </tr>\n",
       "    <tr>\n",
       "      <th>413</th>\n",
       "      <td>1305</td>\n",
       "      <td>0</td>\n",
       "    </tr>\n",
       "    <tr>\n",
       "      <th>414</th>\n",
       "      <td>1306</td>\n",
       "      <td>1</td>\n",
       "    </tr>\n",
       "    <tr>\n",
       "      <th>415</th>\n",
       "      <td>1307</td>\n",
       "      <td>0</td>\n",
       "    </tr>\n",
       "    <tr>\n",
       "      <th>416</th>\n",
       "      <td>1308</td>\n",
       "      <td>0</td>\n",
       "    </tr>\n",
       "    <tr>\n",
       "      <th>417</th>\n",
       "      <td>1309</td>\n",
       "      <td>0</td>\n",
       "    </tr>\n",
       "  </tbody>\n",
       "</table>\n",
       "<p>418 rows × 2 columns</p>\n",
       "</div>"
      ],
      "text/plain": [
       "     PassengerId  Survived\n",
       "0            892         0\n",
       "1            893         0\n",
       "2            894         0\n",
       "3            895         0\n",
       "4            896         0\n",
       "..           ...       ...\n",
       "413         1305         0\n",
       "414         1306         1\n",
       "415         1307         0\n",
       "416         1308         0\n",
       "417         1309         0\n",
       "\n",
       "[418 rows x 2 columns]"
      ]
     },
     "execution_count": 117,
     "metadata": {},
     "output_type": "execute_result"
    }
   ],
   "source": [
    "# Creating a dataframe with the predictions\n",
    "results = X_test.reset_index()[['PassengerId']].copy()\n",
    "results['Survived'] = test_preds\n",
    "results"
   ]
  },
  {
   "cell_type": "code",
   "execution_count": null,
   "metadata": {},
   "outputs": [],
   "source": [
    "results.to_csv('predictions.csv',index = False)"
   ]
  }
 ],
 "metadata": {
  "kernelspec": {
   "display_name": "6.86x",
   "language": "python",
   "name": "python3"
  },
  "language_info": {
   "codemirror_mode": {
    "name": "ipython",
    "version": 3
   },
   "file_extension": ".py",
   "mimetype": "text/x-python",
   "name": "python",
   "nbconvert_exporter": "python",
   "pygments_lexer": "ipython3",
   "version": "3.8.16"
  },
  "orig_nbformat": 4
 },
 "nbformat": 4,
 "nbformat_minor": 2
}
